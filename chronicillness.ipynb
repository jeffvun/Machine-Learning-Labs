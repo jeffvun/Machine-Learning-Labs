{
  "nbformat": 4,
  "nbformat_minor": 0,
  "metadata": {
    "colab": {
      "provenance": [],
      "authorship_tag": "ABX9TyOVsabMmqpKlTq5zedkBR6y",
      "include_colab_link": true
    },
    "kernelspec": {
      "name": "ir",
      "display_name": "R"
    },
    "language_info": {
      "name": "R"
    }
  },
  "cells": [
    {
      "cell_type": "markdown",
      "metadata": {
        "id": "view-in-github",
        "colab_type": "text"
      },
      "source": [
        "<a href=\"https://colab.research.google.com/github/jeffvun/Machine-Learning-Labs/blob/main/chronicillness.ipynb\" target=\"_parent\"><img src=\"https://colab.research.google.com/assets/colab-badge.svg\" alt=\"Open In Colab\"/></a>"
      ]
    },
    {
      "cell_type": "code",
      "execution_count": null,
      "metadata": {
        "colab": {
          "base_uri": "https://localhost:8080/"
        },
        "id": "ghHpAglhwEdK",
        "outputId": "46f29830-1e23-4444-c838-ddc1a211ff33"
      },
      "outputs": [
        {
          "output_type": "stream",
          "name": "stderr",
          "text": [
            "\n",
            "Attaching package: ‘dplyr’\n",
            "\n",
            "\n",
            "The following objects are masked from ‘package:stats’:\n",
            "\n",
            "    filter, lag\n",
            "\n",
            "\n",
            "The following objects are masked from ‘package:base’:\n",
            "\n",
            "    intersect, setdiff, setequal, union\n",
            "\n",
            "\n"
          ]
        }
      ],
      "source": [
        "# Load necessary libraries\n",
        "library(dplyr)\n",
        "library(ggplot2)\n"
      ]
    },
    {
      "cell_type": "code",
      "source": [
        "# Load the dataset\n",
        "data <- read.csv(\"/content/ChronicIllness.csv\") # Replace with the actual dataset file name and location\n",
        "data"
      ],
      "metadata": {
        "colab": {
          "base_uri": "https://localhost:8080/",
          "height": 1000
        },
        "id": "KOeOwBgSwQK8",
        "outputId": "f43d5e1e-b125-43bf-c307-d6147591cda8"
      },
      "execution_count": null,
      "outputs": [
        {
          "output_type": "display_data",
          "data": {
            "text/html": [
              "<table class=\"dataframe\">\n",
              "<caption>A data.frame: 19668 × 7</caption>\n",
              "<thead>\n",
              "\t<tr><th scope=col>X</th><th scope=col>Age</th><th scope=col>Gender</th><th scope=col>Chronic_Illness</th><th scope=col>Current_smoker</th><th scope=col>Vigorous_Exercise</th><th scope=col>Lonely</th></tr>\n",
              "\t<tr><th scope=col>&lt;int&gt;</th><th scope=col>&lt;int&gt;</th><th scope=col>&lt;int&gt;</th><th scope=col>&lt;int&gt;</th><th scope=col>&lt;int&gt;</th><th scope=col>&lt;int&gt;</th><th scope=col>&lt;int&gt;</th></tr>\n",
              "</thead>\n",
              "<tbody>\n",
              "\t<tr><td> 0</td><td>65</td><td>1</td><td>0</td><td>0</td><td>0</td><td>0</td></tr>\n",
              "\t<tr><td> 1</td><td>65</td><td>0</td><td>0</td><td>0</td><td>0</td><td>0</td></tr>\n",
              "\t<tr><td> 2</td><td>65</td><td>0</td><td>0</td><td>0</td><td>0</td><td>0</td></tr>\n",
              "\t<tr><td> 3</td><td>65</td><td>0</td><td>0</td><td>0</td><td>0</td><td>0</td></tr>\n",
              "\t<tr><td> 4</td><td>65</td><td>1</td><td>0</td><td>0</td><td>0</td><td>0</td></tr>\n",
              "\t<tr><td> 5</td><td>65</td><td>1</td><td>0</td><td>0</td><td>0</td><td>0</td></tr>\n",
              "\t<tr><td> 6</td><td>65</td><td>0</td><td>0</td><td>0</td><td>0</td><td>0</td></tr>\n",
              "\t<tr><td> 7</td><td>65</td><td>1</td><td>0</td><td>0</td><td>0</td><td>0</td></tr>\n",
              "\t<tr><td> 8</td><td>65</td><td>1</td><td>0</td><td>0</td><td>0</td><td>0</td></tr>\n",
              "\t<tr><td> 9</td><td>65</td><td>1</td><td>0</td><td>0</td><td>0</td><td>0</td></tr>\n",
              "\t<tr><td>10</td><td>65</td><td>1</td><td>0</td><td>1</td><td>0</td><td>0</td></tr>\n",
              "\t<tr><td>11</td><td>65</td><td>1</td><td>0</td><td>0</td><td>0</td><td>0</td></tr>\n",
              "\t<tr><td>12</td><td>65</td><td>0</td><td>0</td><td>0</td><td>0</td><td>0</td></tr>\n",
              "\t<tr><td>13</td><td>65</td><td>0</td><td>0</td><td>0</td><td>0</td><td>0</td></tr>\n",
              "\t<tr><td>14</td><td>65</td><td>1</td><td>0</td><td>0</td><td>0</td><td>0</td></tr>\n",
              "\t<tr><td>15</td><td>65</td><td>1</td><td>0</td><td>1</td><td>0</td><td>0</td></tr>\n",
              "\t<tr><td>16</td><td>65</td><td>1</td><td>0</td><td>0</td><td>0</td><td>0</td></tr>\n",
              "\t<tr><td>17</td><td>65</td><td>1</td><td>0</td><td>0</td><td>0</td><td>0</td></tr>\n",
              "\t<tr><td>18</td><td>65</td><td>1</td><td>0</td><td>0</td><td>0</td><td>0</td></tr>\n",
              "\t<tr><td>19</td><td>65</td><td>1</td><td>0</td><td>0</td><td>0</td><td>0</td></tr>\n",
              "\t<tr><td>20</td><td>65</td><td>1</td><td>0</td><td>0</td><td>0</td><td>0</td></tr>\n",
              "\t<tr><td>21</td><td>65</td><td>1</td><td>0</td><td>0</td><td>0</td><td>0</td></tr>\n",
              "\t<tr><td>22</td><td>65</td><td>1</td><td>0</td><td>1</td><td>0</td><td>0</td></tr>\n",
              "\t<tr><td>23</td><td>65</td><td>1</td><td>0</td><td>0</td><td>0</td><td>0</td></tr>\n",
              "\t<tr><td>24</td><td>65</td><td>1</td><td>0</td><td>0</td><td>0</td><td>0</td></tr>\n",
              "\t<tr><td>25</td><td>65</td><td>1</td><td>0</td><td>0</td><td>0</td><td>0</td></tr>\n",
              "\t<tr><td>26</td><td>65</td><td>0</td><td>0</td><td>1</td><td>0</td><td>0</td></tr>\n",
              "\t<tr><td>27</td><td>65</td><td>0</td><td>0</td><td>0</td><td>0</td><td>0</td></tr>\n",
              "\t<tr><td>28</td><td>65</td><td>1</td><td>0</td><td>0</td><td>0</td><td>0</td></tr>\n",
              "\t<tr><td>29</td><td>65</td><td>0</td><td>0</td><td>0</td><td>0</td><td>0</td></tr>\n",
              "\t<tr><td>⋮</td><td>⋮</td><td>⋮</td><td>⋮</td><td>⋮</td><td>⋮</td><td>⋮</td></tr>\n",
              "\t<tr><td>19638</td><td>82</td><td>0</td><td>1</td><td>0</td><td>1</td><td>1</td></tr>\n",
              "\t<tr><td>19639</td><td>82</td><td>1</td><td>1</td><td>0</td><td>1</td><td>1</td></tr>\n",
              "\t<tr><td>19640</td><td>83</td><td>1</td><td>1</td><td>0</td><td>1</td><td>1</td></tr>\n",
              "\t<tr><td>19641</td><td>83</td><td>1</td><td>1</td><td>0</td><td>1</td><td>1</td></tr>\n",
              "\t<tr><td>19642</td><td>83</td><td>0</td><td>1</td><td>0</td><td>1</td><td>1</td></tr>\n",
              "\t<tr><td>19643</td><td>83</td><td>1</td><td>1</td><td>0</td><td>1</td><td>1</td></tr>\n",
              "\t<tr><td>19644</td><td>83</td><td>1</td><td>1</td><td>0</td><td>1</td><td>1</td></tr>\n",
              "\t<tr><td>19645</td><td>83</td><td>0</td><td>1</td><td>0</td><td>1</td><td>1</td></tr>\n",
              "\t<tr><td>19646</td><td>83</td><td>1</td><td>1</td><td>0</td><td>1</td><td>1</td></tr>\n",
              "\t<tr><td>19647</td><td>83</td><td>0</td><td>1</td><td>0</td><td>1</td><td>1</td></tr>\n",
              "\t<tr><td>19648</td><td>84</td><td>1</td><td>1</td><td>0</td><td>1</td><td>1</td></tr>\n",
              "\t<tr><td>19649</td><td>84</td><td>0</td><td>1</td><td>0</td><td>1</td><td>1</td></tr>\n",
              "\t<tr><td>19650</td><td>84</td><td>0</td><td>1</td><td>0</td><td>1</td><td>1</td></tr>\n",
              "\t<tr><td>19651</td><td>84</td><td>1</td><td>1</td><td>1</td><td>1</td><td>1</td></tr>\n",
              "\t<tr><td>19652</td><td>84</td><td>1</td><td>1</td><td>0</td><td>1</td><td>1</td></tr>\n",
              "\t<tr><td>19653</td><td>84</td><td>0</td><td>1</td><td>0</td><td>1</td><td>1</td></tr>\n",
              "\t<tr><td>19654</td><td>84</td><td>1</td><td>1</td><td>0</td><td>1</td><td>1</td></tr>\n",
              "\t<tr><td>19655</td><td>84</td><td>1</td><td>1</td><td>0</td><td>1</td><td>1</td></tr>\n",
              "\t<tr><td>19656</td><td>84</td><td>0</td><td>1</td><td>0</td><td>1</td><td>1</td></tr>\n",
              "\t<tr><td>19657</td><td>84</td><td>0</td><td>1</td><td>0</td><td>1</td><td>1</td></tr>\n",
              "\t<tr><td>19658</td><td>84</td><td>1</td><td>1</td><td>0</td><td>1</td><td>1</td></tr>\n",
              "\t<tr><td>19659</td><td>84</td><td>1</td><td>1</td><td>0</td><td>1</td><td>1</td></tr>\n",
              "\t<tr><td>19660</td><td>85</td><td>0</td><td>1</td><td>0</td><td>1</td><td>1</td></tr>\n",
              "\t<tr><td>19661</td><td>85</td><td>1</td><td>1</td><td>0</td><td>1</td><td>1</td></tr>\n",
              "\t<tr><td>19662</td><td>85</td><td>1</td><td>1</td><td>0</td><td>1</td><td>1</td></tr>\n",
              "\t<tr><td>19663</td><td>85</td><td>1</td><td>1</td><td>1</td><td>1</td><td>1</td></tr>\n",
              "\t<tr><td>19664</td><td>85</td><td>1</td><td>1</td><td>0</td><td>1</td><td>1</td></tr>\n",
              "\t<tr><td>19665</td><td>85</td><td>1</td><td>1</td><td>0</td><td>1</td><td>1</td></tr>\n",
              "\t<tr><td>19666</td><td>85</td><td>0</td><td>1</td><td>0</td><td>1</td><td>1</td></tr>\n",
              "\t<tr><td>19667</td><td>85</td><td>1</td><td>1</td><td>0</td><td>1</td><td>1</td></tr>\n",
              "</tbody>\n",
              "</table>\n"
            ],
            "text/markdown": "\nA data.frame: 19668 × 7\n\n| X &lt;int&gt; | Age &lt;int&gt; | Gender &lt;int&gt; | Chronic_Illness &lt;int&gt; | Current_smoker &lt;int&gt; | Vigorous_Exercise &lt;int&gt; | Lonely &lt;int&gt; |\n|---|---|---|---|---|---|---|\n|  0 | 65 | 1 | 0 | 0 | 0 | 0 |\n|  1 | 65 | 0 | 0 | 0 | 0 | 0 |\n|  2 | 65 | 0 | 0 | 0 | 0 | 0 |\n|  3 | 65 | 0 | 0 | 0 | 0 | 0 |\n|  4 | 65 | 1 | 0 | 0 | 0 | 0 |\n|  5 | 65 | 1 | 0 | 0 | 0 | 0 |\n|  6 | 65 | 0 | 0 | 0 | 0 | 0 |\n|  7 | 65 | 1 | 0 | 0 | 0 | 0 |\n|  8 | 65 | 1 | 0 | 0 | 0 | 0 |\n|  9 | 65 | 1 | 0 | 0 | 0 | 0 |\n| 10 | 65 | 1 | 0 | 1 | 0 | 0 |\n| 11 | 65 | 1 | 0 | 0 | 0 | 0 |\n| 12 | 65 | 0 | 0 | 0 | 0 | 0 |\n| 13 | 65 | 0 | 0 | 0 | 0 | 0 |\n| 14 | 65 | 1 | 0 | 0 | 0 | 0 |\n| 15 | 65 | 1 | 0 | 1 | 0 | 0 |\n| 16 | 65 | 1 | 0 | 0 | 0 | 0 |\n| 17 | 65 | 1 | 0 | 0 | 0 | 0 |\n| 18 | 65 | 1 | 0 | 0 | 0 | 0 |\n| 19 | 65 | 1 | 0 | 0 | 0 | 0 |\n| 20 | 65 | 1 | 0 | 0 | 0 | 0 |\n| 21 | 65 | 1 | 0 | 0 | 0 | 0 |\n| 22 | 65 | 1 | 0 | 1 | 0 | 0 |\n| 23 | 65 | 1 | 0 | 0 | 0 | 0 |\n| 24 | 65 | 1 | 0 | 0 | 0 | 0 |\n| 25 | 65 | 1 | 0 | 0 | 0 | 0 |\n| 26 | 65 | 0 | 0 | 1 | 0 | 0 |\n| 27 | 65 | 0 | 0 | 0 | 0 | 0 |\n| 28 | 65 | 1 | 0 | 0 | 0 | 0 |\n| 29 | 65 | 0 | 0 | 0 | 0 | 0 |\n| ⋮ | ⋮ | ⋮ | ⋮ | ⋮ | ⋮ | ⋮ |\n| 19638 | 82 | 0 | 1 | 0 | 1 | 1 |\n| 19639 | 82 | 1 | 1 | 0 | 1 | 1 |\n| 19640 | 83 | 1 | 1 | 0 | 1 | 1 |\n| 19641 | 83 | 1 | 1 | 0 | 1 | 1 |\n| 19642 | 83 | 0 | 1 | 0 | 1 | 1 |\n| 19643 | 83 | 1 | 1 | 0 | 1 | 1 |\n| 19644 | 83 | 1 | 1 | 0 | 1 | 1 |\n| 19645 | 83 | 0 | 1 | 0 | 1 | 1 |\n| 19646 | 83 | 1 | 1 | 0 | 1 | 1 |\n| 19647 | 83 | 0 | 1 | 0 | 1 | 1 |\n| 19648 | 84 | 1 | 1 | 0 | 1 | 1 |\n| 19649 | 84 | 0 | 1 | 0 | 1 | 1 |\n| 19650 | 84 | 0 | 1 | 0 | 1 | 1 |\n| 19651 | 84 | 1 | 1 | 1 | 1 | 1 |\n| 19652 | 84 | 1 | 1 | 0 | 1 | 1 |\n| 19653 | 84 | 0 | 1 | 0 | 1 | 1 |\n| 19654 | 84 | 1 | 1 | 0 | 1 | 1 |\n| 19655 | 84 | 1 | 1 | 0 | 1 | 1 |\n| 19656 | 84 | 0 | 1 | 0 | 1 | 1 |\n| 19657 | 84 | 0 | 1 | 0 | 1 | 1 |\n| 19658 | 84 | 1 | 1 | 0 | 1 | 1 |\n| 19659 | 84 | 1 | 1 | 0 | 1 | 1 |\n| 19660 | 85 | 0 | 1 | 0 | 1 | 1 |\n| 19661 | 85 | 1 | 1 | 0 | 1 | 1 |\n| 19662 | 85 | 1 | 1 | 0 | 1 | 1 |\n| 19663 | 85 | 1 | 1 | 1 | 1 | 1 |\n| 19664 | 85 | 1 | 1 | 0 | 1 | 1 |\n| 19665 | 85 | 1 | 1 | 0 | 1 | 1 |\n| 19666 | 85 | 0 | 1 | 0 | 1 | 1 |\n| 19667 | 85 | 1 | 1 | 0 | 1 | 1 |\n\n",
            "text/latex": "A data.frame: 19668 × 7\n\\begin{tabular}{lllllll}\n X & Age & Gender & Chronic\\_Illness & Current\\_smoker & Vigorous\\_Exercise & Lonely\\\\\n <int> & <int> & <int> & <int> & <int> & <int> & <int>\\\\\n\\hline\n\t  0 & 65 & 1 & 0 & 0 & 0 & 0\\\\\n\t  1 & 65 & 0 & 0 & 0 & 0 & 0\\\\\n\t  2 & 65 & 0 & 0 & 0 & 0 & 0\\\\\n\t  3 & 65 & 0 & 0 & 0 & 0 & 0\\\\\n\t  4 & 65 & 1 & 0 & 0 & 0 & 0\\\\\n\t  5 & 65 & 1 & 0 & 0 & 0 & 0\\\\\n\t  6 & 65 & 0 & 0 & 0 & 0 & 0\\\\\n\t  7 & 65 & 1 & 0 & 0 & 0 & 0\\\\\n\t  8 & 65 & 1 & 0 & 0 & 0 & 0\\\\\n\t  9 & 65 & 1 & 0 & 0 & 0 & 0\\\\\n\t 10 & 65 & 1 & 0 & 1 & 0 & 0\\\\\n\t 11 & 65 & 1 & 0 & 0 & 0 & 0\\\\\n\t 12 & 65 & 0 & 0 & 0 & 0 & 0\\\\\n\t 13 & 65 & 0 & 0 & 0 & 0 & 0\\\\\n\t 14 & 65 & 1 & 0 & 0 & 0 & 0\\\\\n\t 15 & 65 & 1 & 0 & 1 & 0 & 0\\\\\n\t 16 & 65 & 1 & 0 & 0 & 0 & 0\\\\\n\t 17 & 65 & 1 & 0 & 0 & 0 & 0\\\\\n\t 18 & 65 & 1 & 0 & 0 & 0 & 0\\\\\n\t 19 & 65 & 1 & 0 & 0 & 0 & 0\\\\\n\t 20 & 65 & 1 & 0 & 0 & 0 & 0\\\\\n\t 21 & 65 & 1 & 0 & 0 & 0 & 0\\\\\n\t 22 & 65 & 1 & 0 & 1 & 0 & 0\\\\\n\t 23 & 65 & 1 & 0 & 0 & 0 & 0\\\\\n\t 24 & 65 & 1 & 0 & 0 & 0 & 0\\\\\n\t 25 & 65 & 1 & 0 & 0 & 0 & 0\\\\\n\t 26 & 65 & 0 & 0 & 1 & 0 & 0\\\\\n\t 27 & 65 & 0 & 0 & 0 & 0 & 0\\\\\n\t 28 & 65 & 1 & 0 & 0 & 0 & 0\\\\\n\t 29 & 65 & 0 & 0 & 0 & 0 & 0\\\\\n\t ⋮ & ⋮ & ⋮ & ⋮ & ⋮ & ⋮ & ⋮\\\\\n\t 19638 & 82 & 0 & 1 & 0 & 1 & 1\\\\\n\t 19639 & 82 & 1 & 1 & 0 & 1 & 1\\\\\n\t 19640 & 83 & 1 & 1 & 0 & 1 & 1\\\\\n\t 19641 & 83 & 1 & 1 & 0 & 1 & 1\\\\\n\t 19642 & 83 & 0 & 1 & 0 & 1 & 1\\\\\n\t 19643 & 83 & 1 & 1 & 0 & 1 & 1\\\\\n\t 19644 & 83 & 1 & 1 & 0 & 1 & 1\\\\\n\t 19645 & 83 & 0 & 1 & 0 & 1 & 1\\\\\n\t 19646 & 83 & 1 & 1 & 0 & 1 & 1\\\\\n\t 19647 & 83 & 0 & 1 & 0 & 1 & 1\\\\\n\t 19648 & 84 & 1 & 1 & 0 & 1 & 1\\\\\n\t 19649 & 84 & 0 & 1 & 0 & 1 & 1\\\\\n\t 19650 & 84 & 0 & 1 & 0 & 1 & 1\\\\\n\t 19651 & 84 & 1 & 1 & 1 & 1 & 1\\\\\n\t 19652 & 84 & 1 & 1 & 0 & 1 & 1\\\\\n\t 19653 & 84 & 0 & 1 & 0 & 1 & 1\\\\\n\t 19654 & 84 & 1 & 1 & 0 & 1 & 1\\\\\n\t 19655 & 84 & 1 & 1 & 0 & 1 & 1\\\\\n\t 19656 & 84 & 0 & 1 & 0 & 1 & 1\\\\\n\t 19657 & 84 & 0 & 1 & 0 & 1 & 1\\\\\n\t 19658 & 84 & 1 & 1 & 0 & 1 & 1\\\\\n\t 19659 & 84 & 1 & 1 & 0 & 1 & 1\\\\\n\t 19660 & 85 & 0 & 1 & 0 & 1 & 1\\\\\n\t 19661 & 85 & 1 & 1 & 0 & 1 & 1\\\\\n\t 19662 & 85 & 1 & 1 & 0 & 1 & 1\\\\\n\t 19663 & 85 & 1 & 1 & 1 & 1 & 1\\\\\n\t 19664 & 85 & 1 & 1 & 0 & 1 & 1\\\\\n\t 19665 & 85 & 1 & 1 & 0 & 1 & 1\\\\\n\t 19666 & 85 & 0 & 1 & 0 & 1 & 1\\\\\n\t 19667 & 85 & 1 & 1 & 0 & 1 & 1\\\\\n\\end{tabular}\n",
            "text/plain": [
              "      X     Age Gender Chronic_Illness Current_smoker Vigorous_Exercise Lonely\n",
              "1      0    65  1      0               0              0                 0     \n",
              "2      1    65  0      0               0              0                 0     \n",
              "3      2    65  0      0               0              0                 0     \n",
              "4      3    65  0      0               0              0                 0     \n",
              "5      4    65  1      0               0              0                 0     \n",
              "6      5    65  1      0               0              0                 0     \n",
              "7      6    65  0      0               0              0                 0     \n",
              "8      7    65  1      0               0              0                 0     \n",
              "9      8    65  1      0               0              0                 0     \n",
              "10     9    65  1      0               0              0                 0     \n",
              "11    10    65  1      0               1              0                 0     \n",
              "12    11    65  1      0               0              0                 0     \n",
              "13    12    65  0      0               0              0                 0     \n",
              "14    13    65  0      0               0              0                 0     \n",
              "15    14    65  1      0               0              0                 0     \n",
              "16    15    65  1      0               1              0                 0     \n",
              "17    16    65  1      0               0              0                 0     \n",
              "18    17    65  1      0               0              0                 0     \n",
              "19    18    65  1      0               0              0                 0     \n",
              "20    19    65  1      0               0              0                 0     \n",
              "21    20    65  1      0               0              0                 0     \n",
              "22    21    65  1      0               0              0                 0     \n",
              "23    22    65  1      0               1              0                 0     \n",
              "24    23    65  1      0               0              0                 0     \n",
              "25    24    65  1      0               0              0                 0     \n",
              "26    25    65  1      0               0              0                 0     \n",
              "27    26    65  0      0               1              0                 0     \n",
              "28    27    65  0      0               0              0                 0     \n",
              "29    28    65  1      0               0              0                 0     \n",
              "30    29    65  0      0               0              0                 0     \n",
              "⋮     ⋮     ⋮   ⋮      ⋮               ⋮              ⋮                 ⋮     \n",
              "19639 19638 82  0      1               0              1                 1     \n",
              "19640 19639 82  1      1               0              1                 1     \n",
              "19641 19640 83  1      1               0              1                 1     \n",
              "19642 19641 83  1      1               0              1                 1     \n",
              "19643 19642 83  0      1               0              1                 1     \n",
              "19644 19643 83  1      1               0              1                 1     \n",
              "19645 19644 83  1      1               0              1                 1     \n",
              "19646 19645 83  0      1               0              1                 1     \n",
              "19647 19646 83  1      1               0              1                 1     \n",
              "19648 19647 83  0      1               0              1                 1     \n",
              "19649 19648 84  1      1               0              1                 1     \n",
              "19650 19649 84  0      1               0              1                 1     \n",
              "19651 19650 84  0      1               0              1                 1     \n",
              "19652 19651 84  1      1               1              1                 1     \n",
              "19653 19652 84  1      1               0              1                 1     \n",
              "19654 19653 84  0      1               0              1                 1     \n",
              "19655 19654 84  1      1               0              1                 1     \n",
              "19656 19655 84  1      1               0              1                 1     \n",
              "19657 19656 84  0      1               0              1                 1     \n",
              "19658 19657 84  0      1               0              1                 1     \n",
              "19659 19658 84  1      1               0              1                 1     \n",
              "19660 19659 84  1      1               0              1                 1     \n",
              "19661 19660 85  0      1               0              1                 1     \n",
              "19662 19661 85  1      1               0              1                 1     \n",
              "19663 19662 85  1      1               0              1                 1     \n",
              "19664 19663 85  1      1               1              1                 1     \n",
              "19665 19664 85  1      1               0              1                 1     \n",
              "19666 19665 85  1      1               0              1                 1     \n",
              "19667 19666 85  0      1               0              1                 1     \n",
              "19668 19667 85  1      1               0              1                 1     "
            ]
          },
          "metadata": {}
        }
      ]
    },
    {
      "cell_type": "code",
      "source": [
        "# 1. Identify the data type for each variable\n",
        "sapply(data, class)\n"
      ],
      "metadata": {
        "colab": {
          "base_uri": "https://localhost:8080/",
          "height": 34
        },
        "id": "7F1_3VYtwU36",
        "outputId": "86e354d6-8384-4e0b-8e14-86a293aaaae0"
      },
      "execution_count": null,
      "outputs": [
        {
          "output_type": "display_data",
          "data": {
            "text/html": [
              "<style>\n",
              ".dl-inline {width: auto; margin:0; padding: 0}\n",
              ".dl-inline>dt, .dl-inline>dd {float: none; width: auto; display: inline-block}\n",
              ".dl-inline>dt::after {content: \":\\0020\"; padding-right: .5ex}\n",
              ".dl-inline>dt:not(:first-of-type) {padding-left: .5ex}\n",
              "</style><dl class=dl-inline><dt>X</dt><dd>'integer'</dd><dt>Age</dt><dd>'integer'</dd><dt>Gender</dt><dd>'integer'</dd><dt>Chronic_Illness</dt><dd>'integer'</dd><dt>Current_smoker</dt><dd>'integer'</dd><dt>Vigorous_Exercise</dt><dd>'integer'</dd><dt>Lonely</dt><dd>'integer'</dd></dl>\n"
            ],
            "text/markdown": "X\n:   'integer'Age\n:   'integer'Gender\n:   'integer'Chronic_Illness\n:   'integer'Current_smoker\n:   'integer'Vigorous_Exercise\n:   'integer'Lonely\n:   'integer'\n\n",
            "text/latex": "\\begin{description*}\n\\item[X] 'integer'\n\\item[Age] 'integer'\n\\item[Gender] 'integer'\n\\item[Chronic\\textbackslash{}\\_Illness] 'integer'\n\\item[Current\\textbackslash{}\\_smoker] 'integer'\n\\item[Vigorous\\textbackslash{}\\_Exercise] 'integer'\n\\item[Lonely] 'integer'\n\\end{description*}\n",
            "text/plain": [
              "                X               Age            Gender   Chronic_Illness \n",
              "        \"integer\"         \"integer\"         \"integer\"         \"integer\" \n",
              "   Current_smoker Vigorous_Exercise            Lonely \n",
              "        \"integer\"         \"integer\"         \"integer\" "
            ]
          },
          "metadata": {}
        }
      ]
    },
    {
      "cell_type": "code",
      "source": [
        "# 2. Additional Information for \"Vigorous_Exercise\" and \"Lonely\"\n",
        "# You might need a data dictionary to provide additional information.\n"
      ],
      "metadata": {
        "id": "hNZzq3q2wcmV"
      },
      "execution_count": null,
      "outputs": []
    },
    {
      "cell_type": "code",
      "source": [
        "# 3. Univariate Logistic Regression\n",
        "# a) Perform univariate logistic regression\n",
        "univariate_model <- glm(Chronic_Illness ~ Lonely, data = data, family = \"binomial\")\n",
        "\n",
        "# b) Report the findings in a table\n",
        "summary_table <- summary(univariate_model)\n",
        "summary_table\n"
      ],
      "metadata": {
        "colab": {
          "base_uri": "https://localhost:8080/",
          "height": 364
        },
        "id": "E6tZ9NBCwg3y",
        "outputId": "9ed6ac15-8e02-4bd4-b111-a1001b35cddd"
      },
      "execution_count": null,
      "outputs": [
        {
          "output_type": "display_data",
          "data": {
            "text/plain": [
              "\n",
              "Call:\n",
              "glm(formula = Chronic_Illness ~ Lonely, family = \"binomial\", \n",
              "    data = data)\n",
              "\n",
              "Coefficients:\n",
              "            Estimate Std. Error z value Pr(>|z|)    \n",
              "(Intercept)  0.24113    0.01723   14.00   <2e-16 ***\n",
              "Lonely       0.52350    0.03266   16.03   <2e-16 ***\n",
              "---\n",
              "Signif. codes:  0 ‘***’ 0.001 ‘**’ 0.01 ‘*’ 0.05 ‘.’ 0.1 ‘ ’ 1\n",
              "\n",
              "(Dispersion parameter for binomial family taken to be 1)\n",
              "\n",
              "    Null deviance: 26517  on 19667  degrees of freedom\n",
              "Residual deviance: 26253  on 19666  degrees of freedom\n",
              "AIC: 26257\n",
              "\n",
              "Number of Fisher Scoring iterations: 4\n"
            ]
          },
          "metadata": {}
        }
      ]
    },
    {
      "cell_type": "code",
      "source": [
        "# c) Interpret the odds ratios\n",
        "\n",
        "odds_ratio_lonely <- exp(coef(univariate_model)[\"Lonely\"])\n",
        "odds_ratio_constant <- exp(coef(univariate_model)[\"(Intercept)\"])\n",
        "\n",
        "interpretation <- data.frame(\n",
        "  Variable = c(\"Constant\", \"Lonely\"),\n",
        "  Odds_Ratio = c(odds_ratio_constant, odds_ratio_lonely),\n",
        "  p_value = summary_table$coefficients[\"Lonely\", \"Pr(>|z|)\"]\n",
        ")\n",
        "interpretation\n"
      ],
      "metadata": {
        "colab": {
          "base_uri": "https://localhost:8080/",
          "height": 161
        },
        "id": "meFrqvt1wtl2",
        "outputId": "b9b08085-bff3-49b0-e7b3-e1d6c53b3d23"
      },
      "execution_count": null,
      "outputs": [
        {
          "output_type": "display_data",
          "data": {
            "text/html": [
              "<table class=\"dataframe\">\n",
              "<caption>A data.frame: 2 × 3</caption>\n",
              "<thead>\n",
              "\t<tr><th></th><th scope=col>Variable</th><th scope=col>Odds_Ratio</th><th scope=col>p_value</th></tr>\n",
              "\t<tr><th></th><th scope=col>&lt;chr&gt;</th><th scope=col>&lt;dbl&gt;</th><th scope=col>&lt;dbl&gt;</th></tr>\n",
              "</thead>\n",
              "<tbody>\n",
              "\t<tr><th scope=row>(Intercept)</th><td>Constant</td><td>1.272682</td><td>8.212306e-58</td></tr>\n",
              "\t<tr><th scope=row>Lonely</th><td>Lonely  </td><td>1.687921</td><td>8.212306e-58</td></tr>\n",
              "</tbody>\n",
              "</table>\n"
            ],
            "text/markdown": "\nA data.frame: 2 × 3\n\n| <!--/--> | Variable &lt;chr&gt; | Odds_Ratio &lt;dbl&gt; | p_value &lt;dbl&gt; |\n|---|---|---|---|\n| (Intercept) | Constant | 1.272682 | 8.212306e-58 |\n| Lonely | Lonely   | 1.687921 | 8.212306e-58 |\n\n",
            "text/latex": "A data.frame: 2 × 3\n\\begin{tabular}{r|lll}\n  & Variable & Odds\\_Ratio & p\\_value\\\\\n  & <chr> & <dbl> & <dbl>\\\\\n\\hline\n\t(Intercept) & Constant & 1.272682 & 8.212306e-58\\\\\n\tLonely & Lonely   & 1.687921 & 8.212306e-58\\\\\n\\end{tabular}\n",
            "text/plain": [
              "            Variable Odds_Ratio p_value     \n",
              "(Intercept) Constant 1.272682   8.212306e-58\n",
              "Lonely      Lonely   1.687921   8.212306e-58"
            ]
          },
          "metadata": {}
        }
      ]
    },
    {
      "cell_type": "code",
      "source": [
        "# d) Explain why it might be preferable to include other variables\n",
        "# in the regression equation\n",
        "# Include other relevant variables to improve model accuracy and control for confounding.\n"
      ],
      "metadata": {
        "id": "Eaajiqb6wysr"
      },
      "execution_count": null,
      "outputs": []
    },
    {
      "cell_type": "code",
      "source": [
        "# 4. Multivariable Logistic Regression\n",
        "# a) Regression equation\n",
        "# log(odds of Chronic_Illness) = β0 + β1 * Age + β2 * Gender + β3 * Current_smoker + β4 * Vigorous_Exercise + β5 * Lonely\n",
        "\n",
        "# b) Perform multivariable logistic regression\n",
        "multivariable_model <- glm(Chronic_Illness ~ Age + Gender + Current_smoker + Vigorous_Exercise + Lonely, data = data, family = \"binomial\")\n",
        "\n",
        "# c) Report the findings in a table\n",
        "summary_multivariable_table <- summary(multivariable_model)\n",
        "summary_multivariable_table\n"
      ],
      "metadata": {
        "colab": {
          "base_uri": "https://localhost:8080/",
          "height": 437
        },
        "id": "kkBIm4lfw5YR",
        "outputId": "2b59f02f-685b-438a-ebcb-8f01081e3843"
      },
      "execution_count": null,
      "outputs": [
        {
          "output_type": "display_data",
          "data": {
            "text/plain": [
              "\n",
              "Call:\n",
              "glm(formula = Chronic_Illness ~ Age + Gender + Current_smoker + \n",
              "    Vigorous_Exercise + Lonely, family = \"binomial\", data = data)\n",
              "\n",
              "Coefficients:\n",
              "                   Estimate Std. Error z value Pr(>|z|)    \n",
              "(Intercept)       -0.549287   0.206711  -2.657  0.00788 ** \n",
              "Age                0.015708   0.002794   5.623 1.88e-08 ***\n",
              "Gender            -0.094880   0.030517  -3.109  0.00188 ** \n",
              "Current_smoker     0.078383   0.053316   1.470  0.14152    \n",
              "Vigorous_Exercise -0.764883   0.031645 -24.171  < 2e-16 ***\n",
              "Lonely             0.444960   0.033819  13.157  < 2e-16 ***\n",
              "---\n",
              "Signif. codes:  0 ‘***’ 0.001 ‘**’ 0.01 ‘*’ 0.05 ‘.’ 0.1 ‘ ’ 1\n",
              "\n",
              "(Dispersion parameter for binomial family taken to be 1)\n",
              "\n",
              "    Null deviance: 26517  on 19667  degrees of freedom\n",
              "Residual deviance: 25548  on 19662  degrees of freedom\n",
              "AIC: 25560\n",
              "\n",
              "Number of Fisher Scoring iterations: 4\n"
            ]
          },
          "metadata": {}
        }
      ]
    },
    {
      "cell_type": "code",
      "source": [
        "# d) Interpret the odds ratios for Age, Gender, and Current_smoker\n",
        "odds_age <- exp(coef(multivariable_model)[\"Age\"])\n",
        "odds_gender <- exp(coef(multivariable_model)[\"Gender\"])\n",
        "odds_smoker <- exp(coef(multivariable_model)[\"Current_smoker\"])\n",
        "\n",
        "interpretation_multivariable <- data.frame(\n",
        "  Variable = c(\"Age\", \"Gender\", \"Current_smoker\"),\n",
        "  Odds_Ratio = c(odds_age, odds_gender, odds_smoker),\n",
        "  p_value = summary_multivariable_table$coefficients[c(\"Age\", \"Gender\", \"Current_smoker\"), \"Pr(>|z|)\"]\n",
        ")\n",
        "interpretation_multivariable\n"
      ],
      "metadata": {
        "colab": {
          "base_uri": "https://localhost:8080/",
          "height": 192
        },
        "id": "5X0HifYtxH0F",
        "outputId": "b221df63-d1b8-4064-e4ef-1255c548a576"
      },
      "execution_count": null,
      "outputs": [
        {
          "output_type": "display_data",
          "data": {
            "text/html": [
              "<table class=\"dataframe\">\n",
              "<caption>A data.frame: 3 × 3</caption>\n",
              "<thead>\n",
              "\t<tr><th></th><th scope=col>Variable</th><th scope=col>Odds_Ratio</th><th scope=col>p_value</th></tr>\n",
              "\t<tr><th></th><th scope=col>&lt;chr&gt;</th><th scope=col>&lt;dbl&gt;</th><th scope=col>&lt;dbl&gt;</th></tr>\n",
              "</thead>\n",
              "<tbody>\n",
              "\t<tr><th scope=row>Age</th><td>Age           </td><td>1.0158321</td><td>1.878458e-08</td></tr>\n",
              "\t<tr><th scope=row>Gender</th><td>Gender        </td><td>0.9094822</td><td>1.876970e-03</td></tr>\n",
              "\t<tr><th scope=row>Current_smoker</th><td>Current_smoker</td><td>1.0815368</td><td>1.415159e-01</td></tr>\n",
              "</tbody>\n",
              "</table>\n"
            ],
            "text/markdown": "\nA data.frame: 3 × 3\n\n| <!--/--> | Variable &lt;chr&gt; | Odds_Ratio &lt;dbl&gt; | p_value &lt;dbl&gt; |\n|---|---|---|---|\n| Age | Age            | 1.0158321 | 1.878458e-08 |\n| Gender | Gender         | 0.9094822 | 1.876970e-03 |\n| Current_smoker | Current_smoker | 1.0815368 | 1.415159e-01 |\n\n",
            "text/latex": "A data.frame: 3 × 3\n\\begin{tabular}{r|lll}\n  & Variable & Odds\\_Ratio & p\\_value\\\\\n  & <chr> & <dbl> & <dbl>\\\\\n\\hline\n\tAge & Age            & 1.0158321 & 1.878458e-08\\\\\n\tGender & Gender         & 0.9094822 & 1.876970e-03\\\\\n\tCurrent\\_smoker & Current\\_smoker & 1.0815368 & 1.415159e-01\\\\\n\\end{tabular}\n",
            "text/plain": [
              "               Variable       Odds_Ratio p_value     \n",
              "Age            Age            1.0158321  1.878458e-08\n",
              "Gender         Gender         0.9094822  1.876970e-03\n",
              "Current_smoker Current_smoker 1.0815368  1.415159e-01"
            ]
          },
          "metadata": {}
        }
      ]
    },
    {
      "cell_type": "code",
      "source": [
        "# e) Explain the change in the odds ratio for \"Lonely\" in the multivariable model\n",
        "# The odds ratio for \"Lonely\" may change due to the inclusion of other variables, which can affect the relationship.\n",
        "\n",
        "# f) Explain why the model might not be appropriate for someone aged 30\n",
        "# The model is based on data for individuals aged 65 to 84. Applying it to someone aged 30 is extrapolation and may not provide reliable predictions.\n"
      ],
      "metadata": {
        "id": "DxEfR-GBxrXA"
      },
      "execution_count": null,
      "outputs": []
    },
    {
      "cell_type": "code",
      "source": [
        "# 5. Calculate Predicted Odds and Probabilities\n",
        "# a) Calculate the predicted odds for a specific case\n",
        "age_pred <- 65\n",
        "gender_pred <- 1  # Female\n",
        "smoker_pred <- 1\n",
        "exercise_pred <- 0\n",
        "lonely_pred <- 1\n",
        "\n",
        "log_odds_pred <- coef(multivariable_model)[\"(Intercept)\"] +\n",
        "  coef(multivariable_model)[\"Age\"] * age_pred +\n",
        "  coef(multivariable_model)[\"Gender\"] * gender_pred +\n",
        "  coef(multivariable_model)[\"Current_smoker\"] * smoker_pred +\n",
        "  coef(multivariable_model)[\"Vigorous_Exercise\"] * exercise_pred +\n",
        "  coef(multivariable_model)[\"Lonely\"] * lonely_pred\n",
        "\n",
        "# b) Calculate the predicted probability\n",
        "probability_pred <- exp(log_odds_pred) / (1 + exp(log_odds_pred))\n",
        "\n",
        "# Print the results\n",
        "log_odds_pred\n",
        "probability_pred"
      ],
      "metadata": {
        "colab": {
          "base_uri": "https://localhost:8080/",
          "height": 52
        },
        "id": "Vwdn5AYgxvTe",
        "outputId": "0a582e48-b84a-421b-e21e-0ae05f18c363"
      },
      "execution_count": null,
      "outputs": [
        {
          "output_type": "display_data",
          "data": {
            "text/html": [
              "<strong>(Intercept):</strong> 0.900198458109054"
            ],
            "text/markdown": "**(Intercept):** 0.900198458109054",
            "text/latex": "\\textbf{(Intercept):} 0.900198458109054",
            "text/plain": [
              "(Intercept) \n",
              "  0.9001985 "
            ]
          },
          "metadata": {}
        },
        {
          "output_type": "display_data",
          "data": {
            "text/html": [
              "<strong>(Intercept):</strong> 0.710990284119973"
            ],
            "text/markdown": "**(Intercept):** 0.710990284119973",
            "text/latex": "\\textbf{(Intercept):} 0.710990284119973",
            "text/plain": [
              "(Intercept) \n",
              "  0.7109903 "
            ]
          },
          "metadata": {}
        }
      ]
    }
  ]
}