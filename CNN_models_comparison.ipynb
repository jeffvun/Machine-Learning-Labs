{
  "cells": [
    {
      "cell_type": "markdown",
      "metadata": {
        "id": "view-in-github",
        "colab_type": "text"
      },
      "source": [
        "<a href=\"https://colab.research.google.com/github/jeffvun/Machine-Learning-Labs/blob/main/CNN_models_comparison.ipynb\" target=\"_parent\"><img src=\"https://colab.research.google.com/assets/colab-badge.svg\" alt=\"Open In Colab\"/></a>"
      ]
    },
    {
      "cell_type": "markdown",
      "metadata": {
        "id": "go8s0gsiTO2v"
      },
      "source": [
        "## **Loading necessary libraries**"
      ]
    },
    {
      "cell_type": "code",
      "execution_count": null,
      "metadata": {
        "colab": {
          "base_uri": "https://localhost:8080/"
        },
        "id": "mDN9bYkpXEvA",
        "outputId": "91954073-266b-46bd-a215-3912e8bb7586"
      },
      "outputs": [
        {
          "output_type": "stream",
          "name": "stdout",
          "text": [
            "Collecting vit-keras\n",
            "  Downloading vit_keras-0.1.2-py3-none-any.whl (24 kB)\n",
            "Requirement already satisfied: scipy in /usr/local/lib/python3.10/dist-packages (from vit-keras) (1.11.3)\n",
            "Collecting validators (from vit-keras)\n",
            "  Downloading validators-0.22.0-py3-none-any.whl (26 kB)\n",
            "Requirement already satisfied: numpy<1.28.0,>=1.21.6 in /usr/local/lib/python3.10/dist-packages (from scipy->vit-keras) (1.23.5)\n",
            "Installing collected packages: validators, vit-keras\n",
            "Successfully installed validators-0.22.0 vit-keras-0.1.2\n",
            "Collecting tensorflow-addons\n",
            "  Downloading tensorflow_addons-0.22.0-cp310-cp310-manylinux_2_17_x86_64.manylinux2014_x86_64.whl (612 kB)\n",
            "\u001b[2K     \u001b[90m━━━━━━━━━━━━━━━━━━━━━━━━━━━━━━━━━━━━━━━━\u001b[0m \u001b[32m612.3/612.3 kB\u001b[0m \u001b[31m9.7 MB/s\u001b[0m eta \u001b[36m0:00:00\u001b[0m\n",
            "\u001b[?25hRequirement already satisfied: packaging in /usr/local/lib/python3.10/dist-packages (from tensorflow-addons) (23.2)\n",
            "Collecting typeguard<3.0.0,>=2.7 (from tensorflow-addons)\n",
            "  Downloading typeguard-2.13.3-py3-none-any.whl (17 kB)\n",
            "Installing collected packages: typeguard, tensorflow-addons\n",
            "Successfully installed tensorflow-addons-0.22.0 typeguard-2.13.3\n"
          ]
        }
      ],
      "source": [
        "!pip install vit-keras\n",
        "!pip install tensorflow-addons\n"
      ]
    },
    {
      "cell_type": "code",
      "execution_count": null,
      "metadata": {
        "colab": {
          "base_uri": "https://localhost:8080/"
        },
        "id": "UrUYgap3yiYR",
        "outputId": "5a657e0d-4315-4daf-f975-6e282655bab5"
      },
      "outputs": [
        {
          "output_type": "stream",
          "name": "stderr",
          "text": [
            "/usr/local/lib/python3.10/dist-packages/tensorflow_addons/utils/tfa_eol_msg.py:23: UserWarning: \n",
            "\n",
            "TensorFlow Addons (TFA) has ended development and introduction of new features.\n",
            "TFA has entered a minimal maintenance and release mode until a planned end of life in May 2024.\n",
            "Please modify downstream libraries to take dependencies from other repositories in our TensorFlow community (e.g. Keras, Keras-CV, and Keras-NLP). \n",
            "\n",
            "For more information see: https://github.com/tensorflow/addons/issues/2807 \n",
            "\n",
            "  warnings.warn(\n"
          ]
        }
      ],
      "source": [
        "import tensorflow as tf\n",
        "from tensorflow import keras\n",
        "from tensorflow.keras import layers\n",
        "from tensorflow.keras.applications import ResNet50\n",
        "from vit_keras import vit, utils\n",
        "from tensorflow.keras.applications import MobileNetV2\n",
        "from tensorflow.keras.layers import GlobalAveragePooling2D, Dense, Dropout\n",
        "from tensorflow.keras.models import Model, load_model\n",
        "from tensorflow.keras.preprocessing.image import ImageDataGenerator\n",
        "\n",
        "import os\n",
        "import pandas as pd\n",
        "import numpy as np\n",
        "import matplotlib.pyplot as plt\n",
        "import seaborn as sns\n",
        "\n",
        "\n",
        "from sklearn.svm import SVC\n",
        "from sklearn.model_selection import train_test_split\n",
        "from sklearn.metrics import confusion_matrix, classification_report, accuracy_score, f1_score\n",
        "from sklearn.preprocessing import LabelEncoder\n",
        "\n",
        "from PIL import Image\n"
      ]
    },
    {
      "cell_type": "markdown",
      "metadata": {
        "id": "JbraZ48RTYwz"
      },
      "source": [
        "## **Data Preprocessing**"
      ]
    },
    {
      "cell_type": "code",
      "execution_count": null,
      "metadata": {
        "id": "uDNJshJ8yotN"
      },
      "outputs": [],
      "source": [
        "# Define constants\n",
        "IMAGE_SIZE = (224, 224)\n",
        "BATCH_SIZE = 32\n",
        "EPOCHS = 10\n",
        "NUM_CLASSES = 4\n"
      ]
    },
    {
      "cell_type": "code",
      "execution_count": null,
      "metadata": {
        "id": "zxdqgPrW-Qud"
      },
      "outputs": [],
      "source": [
        "# Define data directories and categories\n",
        "data_dir = '/content/drive/MyDrive/DataSet/train/ALL'\n",
        "categories = ['Benign', 'Early', 'Pre', 'Pro']\n",
        "\n",
        "# Create an empty DataFrame to store file paths and corresponding labels\n",
        "data = []\n",
        "\n",
        "# Load data by iterating through categories and collecting file paths\n",
        "for category_id, category in enumerate(categories):\n",
        "    category_dir = os.path.join(data_dir, category)\n",
        "    for filename in os.listdir(category_dir):\n",
        "        if filename.endswith('.jpg'):\n",
        "          data.append((os.path.join(category_dir, filename), category))"
      ]
    },
    {
      "cell_type": "code",
      "execution_count": null,
      "metadata": {
        "id": "RnF8UApbCi4j"
      },
      "outputs": [],
      "source": [
        "# Convert the data list into a DataFrame\n",
        "data_df = pd.DataFrame(data, columns=['FilePath', 'Category'])"
      ]
    },
    {
      "cell_type": "code",
      "execution_count": null,
      "metadata": {
        "colab": {
          "base_uri": "https://localhost:8080/"
        },
        "id": "A4zPANws4ZPq",
        "outputId": "55fa94dd-d13e-469f-a3bf-92ef25e2f15a"
      },
      "outputs": [
        {
          "output_type": "stream",
          "name": "stdout",
          "text": [
            "Number of samples in training set: 2343\n",
            "Number of samples in testing set: 652\n",
            "Number of samples in validation set: 261\n"
          ]
        }
      ],
      "source": [
        "# Split the data into training, testing, and validation sets\n",
        "train_data, test_data = train_test_split(data_df, test_size=0.2, random_state=42)\n",
        "train_data, val_data = train_test_split(train_data, test_size=0.1, random_state=42)\n",
        "\n",
        "# Print the number of samples in each set\n",
        "print(f\"Number of samples in training set: {len(train_data)}\")\n",
        "print(f\"Number of samples in testing set: {len(test_data)}\")\n",
        "print(f\"Number of samples in validation set: {len(val_data)}\")\n"
      ]
    },
    {
      "cell_type": "code",
      "execution_count": null,
      "metadata": {
        "id": "5iANrYLCyzRb"
      },
      "outputs": [],
      "source": [
        "# Create data generators\n",
        "datagen = ImageDataGenerator(\n",
        "    rescale=1.0/255.0,\n",
        "    rotation_range=20,\n",
        "    width_shift_range=0.2,\n",
        "    height_shift_range=0.2,\n",
        "    shear_range=0.2,\n",
        "    zoom_range=0.2,\n",
        "    horizontal_flip=True,\n",
        "    fill_mode='nearest'\n",
        ")"
      ]
    },
    {
      "cell_type": "code",
      "execution_count": null,
      "metadata": {
        "colab": {
          "base_uri": "https://localhost:8080/"
        },
        "id": "oTbgks8Ey51P",
        "outputId": "731b27ec-0a6b-4fce-d541-4d4d32f14c5d"
      },
      "outputs": [
        {
          "output_type": "stream",
          "name": "stdout",
          "text": [
            "Found 2343 validated image filenames belonging to 4 classes.\n",
            "Found 261 validated image filenames belonging to 4 classes.\n",
            "Found 652 validated image filenames belonging to 4 classes.\n"
          ]
        }
      ],
      "source": [
        "train_generator = datagen.flow_from_dataframe(\n",
        "    dataframe=train_data,\n",
        "    x_col=\"FilePath\",\n",
        "    y_col=\"Category\",\n",
        "    target_size=(IMAGE_SIZE),\n",
        "    batch_size=BATCH_SIZE,\n",
        "    class_mode='categorical'\n",
        ")\n",
        "\n",
        "val_generator = datagen.flow_from_dataframe(\n",
        "    dataframe=val_data,\n",
        "    x_col=\"FilePath\",\n",
        "    y_col=\"Category\",\n",
        "    target_size=(IMAGE_SIZE),\n",
        "    batch_size=BATCH_SIZE,\n",
        "    class_mode='categorical'\n",
        ")\n",
        "\n",
        "test_generator = datagen.flow_from_dataframe(\n",
        "    dataframe=test_data,\n",
        "    x_col=\"FilePath\",\n",
        "    y_col=\"Category\",\n",
        "    target_size=(IMAGE_SIZE),\n",
        "    batch_size=BATCH_SIZE,\n",
        "    class_mode='categorical'\n",
        ")"
      ]
    },
    {
      "cell_type": "markdown",
      "metadata": {
        "id": "jVNjIFfLTzVx"
      },
      "source": [
        "## **Loading and Compiling Various CNN models**"
      ]
    },
    {
      "cell_type": "code",
      "execution_count": null,
      "metadata": {
        "colab": {
          "base_uri": "https://localhost:8080/",
          "height": 75
        },
        "id": "0yHKDsMhJFWK",
        "outputId": "bcbcae02-a19b-411d-be46-7da8bd9e609f"
      },
      "outputs": [
        {
          "output_type": "execute_result",
          "data": {
            "text/plain": [
              "SVC(kernel='linear')"
            ],
            "text/html": [
              "<style>#sk-container-id-1 {color: black;background-color: white;}#sk-container-id-1 pre{padding: 0;}#sk-container-id-1 div.sk-toggleable {background-color: white;}#sk-container-id-1 label.sk-toggleable__label {cursor: pointer;display: block;width: 100%;margin-bottom: 0;padding: 0.3em;box-sizing: border-box;text-align: center;}#sk-container-id-1 label.sk-toggleable__label-arrow:before {content: \"▸\";float: left;margin-right: 0.25em;color: #696969;}#sk-container-id-1 label.sk-toggleable__label-arrow:hover:before {color: black;}#sk-container-id-1 div.sk-estimator:hover label.sk-toggleable__label-arrow:before {color: black;}#sk-container-id-1 div.sk-toggleable__content {max-height: 0;max-width: 0;overflow: hidden;text-align: left;background-color: #f0f8ff;}#sk-container-id-1 div.sk-toggleable__content pre {margin: 0.2em;color: black;border-radius: 0.25em;background-color: #f0f8ff;}#sk-container-id-1 input.sk-toggleable__control:checked~div.sk-toggleable__content {max-height: 200px;max-width: 100%;overflow: auto;}#sk-container-id-1 input.sk-toggleable__control:checked~label.sk-toggleable__label-arrow:before {content: \"▾\";}#sk-container-id-1 div.sk-estimator input.sk-toggleable__control:checked~label.sk-toggleable__label {background-color: #d4ebff;}#sk-container-id-1 div.sk-label input.sk-toggleable__control:checked~label.sk-toggleable__label {background-color: #d4ebff;}#sk-container-id-1 input.sk-hidden--visually {border: 0;clip: rect(1px 1px 1px 1px);clip: rect(1px, 1px, 1px, 1px);height: 1px;margin: -1px;overflow: hidden;padding: 0;position: absolute;width: 1px;}#sk-container-id-1 div.sk-estimator {font-family: monospace;background-color: #f0f8ff;border: 1px dotted black;border-radius: 0.25em;box-sizing: border-box;margin-bottom: 0.5em;}#sk-container-id-1 div.sk-estimator:hover {background-color: #d4ebff;}#sk-container-id-1 div.sk-parallel-item::after {content: \"\";width: 100%;border-bottom: 1px solid gray;flex-grow: 1;}#sk-container-id-1 div.sk-label:hover label.sk-toggleable__label {background-color: #d4ebff;}#sk-container-id-1 div.sk-serial::before {content: \"\";position: absolute;border-left: 1px solid gray;box-sizing: border-box;top: 0;bottom: 0;left: 50%;z-index: 0;}#sk-container-id-1 div.sk-serial {display: flex;flex-direction: column;align-items: center;background-color: white;padding-right: 0.2em;padding-left: 0.2em;position: relative;}#sk-container-id-1 div.sk-item {position: relative;z-index: 1;}#sk-container-id-1 div.sk-parallel {display: flex;align-items: stretch;justify-content: center;background-color: white;position: relative;}#sk-container-id-1 div.sk-item::before, #sk-container-id-1 div.sk-parallel-item::before {content: \"\";position: absolute;border-left: 1px solid gray;box-sizing: border-box;top: 0;bottom: 0;left: 50%;z-index: -1;}#sk-container-id-1 div.sk-parallel-item {display: flex;flex-direction: column;z-index: 1;position: relative;background-color: white;}#sk-container-id-1 div.sk-parallel-item:first-child::after {align-self: flex-end;width: 50%;}#sk-container-id-1 div.sk-parallel-item:last-child::after {align-self: flex-start;width: 50%;}#sk-container-id-1 div.sk-parallel-item:only-child::after {width: 0;}#sk-container-id-1 div.sk-dashed-wrapped {border: 1px dashed gray;margin: 0 0.4em 0.5em 0.4em;box-sizing: border-box;padding-bottom: 0.4em;background-color: white;}#sk-container-id-1 div.sk-label label {font-family: monospace;font-weight: bold;display: inline-block;line-height: 1.2em;}#sk-container-id-1 div.sk-label-container {text-align: center;}#sk-container-id-1 div.sk-container {/* jupyter's `normalize.less` sets `[hidden] { display: none; }` but bootstrap.min.css set `[hidden] { display: none !important; }` so we also need the `!important` here to be able to override the default hidden behavior on the sphinx rendered scikit-learn.org. See: https://github.com/scikit-learn/scikit-learn/issues/21755 */display: inline-block !important;position: relative;}#sk-container-id-1 div.sk-text-repr-fallback {display: none;}</style><div id=\"sk-container-id-1\" class=\"sk-top-container\"><div class=\"sk-text-repr-fallback\"><pre>SVC(kernel=&#x27;linear&#x27;)</pre><b>In a Jupyter environment, please rerun this cell to show the HTML representation or trust the notebook. <br />On GitHub, the HTML representation is unable to render, please try loading this page with nbviewer.org.</b></div><div class=\"sk-container\" hidden><div class=\"sk-item\"><div class=\"sk-estimator sk-toggleable\"><input class=\"sk-toggleable__control sk-hidden--visually\" id=\"sk-estimator-id-1\" type=\"checkbox\" checked><label for=\"sk-estimator-id-1\" class=\"sk-toggleable__label sk-toggleable__label-arrow\">SVC</label><div class=\"sk-toggleable__content\"><pre>SVC(kernel=&#x27;linear&#x27;)</pre></div></div></div></div></div>"
            ]
          },
          "metadata": {},
          "execution_count": 9
        }
      ],
      "source": [
        "# Load and compile SVM model\n",
        "# Flatten the images for SVM\n",
        "X_svm, y_svm = [], []\n",
        "\n",
        "for i in range(len(train_generator)):\n",
        "    batch_images, batch_labels = train_generator[i]\n",
        "    batch_size = batch_images.shape[0]\n",
        "    flattened_images = batch_images.reshape((batch_size, -1))\n",
        "    X_svm.append(flattened_images)\n",
        "    y_svm.append(np.argmax(batch_labels, axis=1))\n",
        "\n",
        "X_svm = np.vstack(X_svm)\n",
        "y_svm = np.concatenate(y_svm)\n",
        "\n",
        "svm_model = SVC(kernel='linear')\n",
        "svm_model.fit(X_svm, y_svm)\n"
      ]
    },
    {
      "cell_type": "code",
      "execution_count": null,
      "metadata": {
        "id": "5mxq8umjLTW8"
      },
      "outputs": [],
      "source": [
        "# Load and compile CNN model\n",
        "cnn_model = keras.Sequential([\n",
        "    layers.Conv2D(32, (3, 3), activation='relu', input_shape=(*IMAGE_SIZE, 3)),\n",
        "    layers.MaxPooling2D((2, 2)),\n",
        "    layers.Flatten(),\n",
        "    layers.Dense(128, activation='relu'),\n",
        "    layers.Dense(4, activation='softmax')\n",
        "])\n",
        "\n",
        "cnn_model.compile(optimizer='adam', loss='categorical_crossentropy', metrics=['accuracy'])\n"
      ]
    },
    {
      "cell_type": "code",
      "execution_count": null,
      "metadata": {
        "id": "val0a_W8LN8A"
      },
      "outputs": [],
      "source": [
        "# Load and compile ViT model\n",
        "vit_model = vit.vit_b16(\n",
        "    image_size=IMAGE_SIZE[0],\n",
        "    activation='softmax',\n",
        "    pretrained=False,\n",
        "    include_top=True,\n",
        "    pretrained_top=False,\n",
        "    classes=4\n",
        ")\n",
        "\n",
        "vit_model.compile(optimizer=keras.optimizers.Adam(learning_rate=1e-4), loss='categorical_crossentropy', metrics=['accuracy'])\n"
      ]
    },
    {
      "cell_type": "code",
      "source": [
        "# Load and compile ResNet model\n",
        "base_model = ResNet50(input_shape=(*IMAGE_SIZE, 3),weights='imagenet', include_top=False)\n",
        "x = base_model.output\n",
        "x = GlobalAveragePooling2D()(x)\n",
        "predictions = Dense(1, activation='sigmoid')(x)\n",
        "\n",
        "resnet_model = Model(inputs=base_model.input, outputs=predictions)\n",
        "\n",
        "resnet_model.compile(optimizer='adam',\n",
        "                    loss='binary_crossentropy',\n",
        "                    metrics=['accuracy'])"
      ],
      "metadata": {
        "id": "FKowuEmADYAL"
      },
      "execution_count": null,
      "outputs": []
    },
    {
      "cell_type": "code",
      "execution_count": null,
      "metadata": {
        "colab": {
          "base_uri": "https://localhost:8080/"
        },
        "id": "NTc2h5F5y9c1",
        "outputId": "b6fb7b07-b6ea-4e6e-bf0a-2e127d4e140a"
      },
      "outputs": [
        {
          "output_type": "stream",
          "name": "stdout",
          "text": [
            "Downloading data from https://storage.googleapis.com/tensorflow/keras-applications/mobilenet_v2/mobilenet_v2_weights_tf_dim_ordering_tf_kernels_1.0_224_no_top.h5\n",
            "9406464/9406464 [==============================] - 1s 0us/step\n"
          ]
        }
      ],
      "source": [
        "# Load and configure MobileNetV2 model\n",
        "base_model = MobileNetV2(\n",
        "    input_shape=(*IMAGE_SIZE, 3),\n",
        "    include_top=False,\n",
        "    weights=\"imagenet\",\n",
        ")\n",
        "#Adding custom classification layers\n",
        "x = base_model.output\n",
        "x = GlobalAveragePooling2D()(x)\n",
        "x = Dense(1024, activation='relu')(x)\n",
        "x = Dropout(0.5)(x)\n",
        "predictions = Dense(NUM_CLASSES, activation='softmax')(x)\n",
        "\n",
        "mobilenet_model = Model(inputs=base_model.input, outputs=predictions)\n",
        "\n",
        "# Freeze the base model layers\n",
        "for layer in base_model.layers:\n",
        "    layer.trainable = False\n",
        "# Compile the model\n",
        "mobilenet_model.compile(optimizer='adam', loss='categorical_crossentropy', metrics=['accuracy'])\n"
      ]
    },
    {
      "cell_type": "markdown",
      "metadata": {
        "id": "c8OVBSFQT_-y"
      },
      "source": [
        "## **Training and Evaluating Various CNN Models**"
      ]
    },
    {
      "cell_type": "code",
      "execution_count": null,
      "metadata": {
        "id": "V9kVChrLzOJI",
        "colab": {
          "base_uri": "https://localhost:8080/"
        },
        "outputId": "93073a81-4ef0-41e1-a4a7-9d3cd132ed9b"
      },
      "outputs": [
        {
          "output_type": "stream",
          "name": "stdout",
          "text": [
            "Epoch 1/10\n",
            "74/74 [==============================] - 216s 3s/step - loss: 7.7441 - accuracy: 0.5019 - val_loss: 0.7747 - val_accuracy: 0.7165\n",
            "Epoch 2/10\n",
            "74/74 [==============================] - 44s 599ms/step - loss: 0.6384 - accuracy: 0.7606 - val_loss: 0.5964 - val_accuracy: 0.7625\n",
            "Epoch 3/10\n",
            "74/74 [==============================] - 42s 571ms/step - loss: 0.5047 - accuracy: 0.8148 - val_loss: 0.4796 - val_accuracy: 0.8123\n",
            "Epoch 4/10\n",
            "74/74 [==============================] - 43s 582ms/step - loss: 0.4431 - accuracy: 0.8280 - val_loss: 0.3911 - val_accuracy: 0.8851\n",
            "Epoch 5/10\n",
            "74/74 [==============================] - 43s 575ms/step - loss: 0.4152 - accuracy: 0.8455 - val_loss: 0.3563 - val_accuracy: 0.8659\n",
            "Epoch 6/10\n",
            "74/74 [==============================] - 43s 580ms/step - loss: 0.4033 - accuracy: 0.8429 - val_loss: 0.3506 - val_accuracy: 0.8774\n",
            "Epoch 7/10\n",
            "74/74 [==============================] - 44s 597ms/step - loss: 0.3867 - accuracy: 0.8621 - val_loss: 0.3857 - val_accuracy: 0.8429\n",
            "Epoch 8/10\n",
            "74/74 [==============================] - 42s 566ms/step - loss: 0.3492 - accuracy: 0.8715 - val_loss: 0.2860 - val_accuracy: 0.9042\n",
            "Epoch 9/10\n",
            "74/74 [==============================] - 44s 598ms/step - loss: 0.3425 - accuracy: 0.8656 - val_loss: 0.3416 - val_accuracy: 0.9004\n",
            "Epoch 10/10\n",
            "74/74 [==============================] - 44s 586ms/step - loss: 0.3303 - accuracy: 0.8788 - val_loss: 0.2904 - val_accuracy: 0.8851\n",
            "Epoch 1/10\n",
            "74/74 [==============================] - 149s 1s/step - loss: 1.8021 - accuracy: 0.2825 - val_loss: 1.3599 - val_accuracy: 0.2720\n",
            "Epoch 2/10\n",
            "74/74 [==============================] - 103s 1s/step - loss: 1.4241 - accuracy: 0.2638 - val_loss: 1.3675 - val_accuracy: 0.2720\n",
            "Epoch 3/10\n",
            "74/74 [==============================] - 103s 1s/step - loss: 1.3895 - accuracy: 0.3026 - val_loss: 1.4317 - val_accuracy: 0.3257\n",
            "Epoch 4/10\n",
            "74/74 [==============================] - 103s 1s/step - loss: 1.4251 - accuracy: 0.2919 - val_loss: 1.3133 - val_accuracy: 0.2720\n",
            "Epoch 5/10\n",
            "74/74 [==============================] - 102s 1s/step - loss: 1.1407 - accuracy: 0.4597 - val_loss: 0.8389 - val_accuracy: 0.5785\n",
            "Epoch 6/10\n",
            "74/74 [==============================] - 101s 1s/step - loss: 0.9315 - accuracy: 0.5416 - val_loss: 0.8547 - val_accuracy: 0.5479\n",
            "Epoch 7/10\n",
            "74/74 [==============================] - 102s 1s/step - loss: 0.8672 - accuracy: 0.5839 - val_loss: 0.8348 - val_accuracy: 0.5211\n",
            "Epoch 8/10\n",
            "74/74 [==============================] - 103s 1s/step - loss: 0.8483 - accuracy: 0.5775 - val_loss: 0.8702 - val_accuracy: 0.5326\n",
            "Epoch 9/10\n",
            "74/74 [==============================] - 103s 1s/step - loss: 0.5952 - accuracy: 0.7469 - val_loss: 0.3994 - val_accuracy: 0.8391\n",
            "Epoch 10/10\n",
            "74/74 [==============================] - 103s 1s/step - loss: 0.4026 - accuracy: 0.8417 - val_loss: 0.3603 - val_accuracy: 0.8391\n",
            "Epoch 1/10\n",
            "74/74 [==============================] - 87s 713ms/step - loss: 0.6332 - accuracy: 0.7665 - val_loss: 3.7968 - val_accuracy: 0.2605\n",
            "Epoch 2/10\n",
            "74/74 [==============================] - 51s 693ms/step - loss: 0.3897 - accuracy: 0.8677 - val_loss: 11.8845 - val_accuracy: 0.2605\n",
            "Epoch 3/10\n",
            "74/74 [==============================] - 52s 699ms/step - loss: 0.2319 - accuracy: 0.9227 - val_loss: 8.5276 - val_accuracy: 0.0728\n",
            "Epoch 4/10\n",
            "74/74 [==============================] - 52s 697ms/step - loss: 0.1340 - accuracy: 0.9569 - val_loss: 13.9187 - val_accuracy: 0.2605\n",
            "Epoch 5/10\n",
            "74/74 [==============================] - 52s 702ms/step - loss: 0.1265 - accuracy: 0.9556 - val_loss: 15.6872 - val_accuracy: 0.0996\n",
            "Epoch 6/10\n",
            "74/74 [==============================] - 57s 773ms/step - loss: 0.1275 - accuracy: 0.9607 - val_loss: 9.8766 - val_accuracy: 0.2989\n",
            "Epoch 7/10\n",
            "74/74 [==============================] - 52s 699ms/step - loss: 0.1053 - accuracy: 0.9650 - val_loss: 13.0597 - val_accuracy: 0.2605\n",
            "Epoch 8/10\n",
            "74/74 [==============================] - 52s 696ms/step - loss: 0.1072 - accuracy: 0.9599 - val_loss: 2.0850 - val_accuracy: 0.6705\n",
            "Epoch 9/10\n",
            "74/74 [==============================] - 52s 698ms/step - loss: 0.1277 - accuracy: 0.9620 - val_loss: 6.1809 - val_accuracy: 0.4981\n",
            "Epoch 10/10\n",
            "74/74 [==============================] - 51s 691ms/step - loss: 0.1636 - accuracy: 0.9479 - val_loss: 1.5345 - val_accuracy: 0.6437\n",
            "Epoch 1/10\n",
            "74/74 [==============================] - 49s 602ms/step - loss: 0.6053 - accuracy: 0.7849 - val_loss: 0.1684 - val_accuracy: 0.9579\n",
            "Epoch 2/10\n",
            "74/74 [==============================] - 42s 568ms/step - loss: 0.2355 - accuracy: 0.9099 - val_loss: 0.1342 - val_accuracy: 0.9464\n",
            "Epoch 3/10\n",
            "74/74 [==============================] - 44s 597ms/step - loss: 0.1948 - accuracy: 0.9300 - val_loss: 0.1415 - val_accuracy: 0.9579\n",
            "Epoch 4/10\n",
            "74/74 [==============================] - 41s 560ms/step - loss: 0.1878 - accuracy: 0.9326 - val_loss: 0.1350 - val_accuracy: 0.9579\n",
            "Epoch 5/10\n",
            "74/74 [==============================] - 44s 600ms/step - loss: 0.1508 - accuracy: 0.9449 - val_loss: 0.2004 - val_accuracy: 0.9272\n",
            "Epoch 6/10\n",
            "74/74 [==============================] - 41s 562ms/step - loss: 0.1674 - accuracy: 0.9364 - val_loss: 0.0809 - val_accuracy: 0.9847\n",
            "Epoch 7/10\n",
            "74/74 [==============================] - 44s 596ms/step - loss: 0.1341 - accuracy: 0.9526 - val_loss: 0.0968 - val_accuracy: 0.9579\n",
            "Epoch 8/10\n",
            "74/74 [==============================] - 41s 551ms/step - loss: 0.1278 - accuracy: 0.9526 - val_loss: 0.1245 - val_accuracy: 0.9579\n",
            "Epoch 9/10\n",
            "74/74 [==============================] - 43s 586ms/step - loss: 0.1328 - accuracy: 0.9522 - val_loss: 0.0785 - val_accuracy: 0.9770\n",
            "Epoch 10/10\n",
            "74/74 [==============================] - 44s 590ms/step - loss: 0.1131 - accuracy: 0.9586 - val_loss: 0.0857 - val_accuracy: 0.9655\n"
          ]
        }
      ],
      "source": [
        "# Train CNN, ViT, ResNet and mobilenet models\n",
        "\n",
        "history_cnn = cnn_model.fit(train_generator, validation_data=val_generator, epochs=EPOCHS, verbose=1)\n",
        "history_vit = vit_model.fit(train_generator, validation_data=val_generator, epochs=EPOCHS, verbose=1)\n",
        "history_resnet = resnet_model.fit(train_generator, validation_data=val_generator, epochs=EPOCHS)\n",
        "history_mobilenet = mobilenet_model.fit(train_generator, validation_data=val_generator, epochs=EPOCHS, verbose=1)\n"
      ]
    },
    {
      "cell_type": "code",
      "execution_count": null,
      "metadata": {
        "id": "9GmdYyV-Ml-N"
      },
      "outputs": [],
      "source": [
        "# Evaluate SVM model\n",
        "X_test_svm, y_test_svm = [], []\n",
        "\n",
        "for i in range(len(val_generator)):\n",
        "    batch_images, batch_labels = val_generator[i]\n",
        "    batch_size = batch_images.shape[0]\n",
        "    flattened_images = batch_images.reshape((batch_size, -1))\n",
        "    X_test_svm.append(flattened_images)\n",
        "    y_test_svm.append(np.argmax(batch_labels, axis=1))\n",
        "\n",
        "X_test_svm = np.vstack(X_test_svm)\n",
        "y_test_svm = np.concatenate(y_test_svm)\n",
        "\n",
        "svm_predictions = svm_model.predict(X_test_svm)\n",
        "svm_accuracy = accuracy_score(y_test_svm, svm_predictions)\n",
        "svm_f1 = f1_score(y_test_svm, svm_predictions, average='weighted')\n",
        "svm_cm = confusion_matrix(y_test_svm, svm_predictions)\n"
      ]
    },
    {
      "cell_type": "code",
      "execution_count": null,
      "metadata": {
        "id": "jh7JheDBMsGV",
        "colab": {
          "base_uri": "https://localhost:8080/"
        },
        "outputId": "2670e68d-dd50-4fd0-83e6-e3745aca6637"
      },
      "outputs": [
        {
          "output_type": "stream",
          "name": "stdout",
          "text": [
            "1/1 [==============================] - 0s 120ms/step\n",
            "1/1 [==============================] - 0s 32ms/step\n",
            "1/1 [==============================] - 0s 32ms/step\n",
            "1/1 [==============================] - 0s 27ms/step\n",
            "1/1 [==============================] - 0s 33ms/step\n",
            "1/1 [==============================] - 0s 26ms/step\n",
            "1/1 [==============================] - 0s 31ms/step\n",
            "1/1 [==============================] - 0s 31ms/step\n",
            "1/1 [==============================] - 0s 54ms/step\n",
            "9/9 [==============================] - 6s 635ms/step - loss: 0.2997 - accuracy: 0.8927\n"
          ]
        }
      ],
      "source": [
        "# Evaluate CNN model\n",
        "cnn_predictions = []\n",
        "cnn_true_labels = []\n",
        "\n",
        "for i in range(len(val_generator)):\n",
        "    batch_images, batch_labels = val_generator[i]\n",
        "    batch_size = batch_images.shape[0]\n",
        "\n",
        "    # Get true labels\n",
        "    cnn_true_labels.extend(np.argmax(batch_labels, axis=1))\n",
        "\n",
        "    # Get predictions\n",
        "    batch_predictions = cnn_model.predict(batch_images)\n",
        "    cnn_predictions.extend(np.argmax(batch_predictions, axis=1))\n",
        "\n",
        "cnn_f1 = f1_score(cnn_true_labels, cnn_predictions, average='weighted')\n",
        "cnn_eval = cnn_model.evaluate(val_generator)\n",
        "cnn_cm = confusion_matrix(cnn_true_labels, cnn_predictions)\n"
      ]
    },
    {
      "cell_type": "code",
      "execution_count": null,
      "metadata": {
        "id": "NLsjVvbZMu8p"
      },
      "outputs": [],
      "source": [
        "# # Evaluate ViT model\n",
        "# vit_eval = vit_model.evaluate(val_generator)\n",
        "# vit_f1 = f1_score(np.argmax(val_generator.labels, axis=1), np.argmax(vit_model.predict(val_generator), axis=1), average='weighted')\n",
        "# vit_cm = confusion_matrix(np.argmax(val_generator.labels, axis=1), np.argmax(vit_model.predict(val_generator), axis=1))\n"
      ]
    },
    {
      "cell_type": "code",
      "execution_count": null,
      "metadata": {
        "id": "xnjYtuwL1h1u",
        "colab": {
          "base_uri": "https://localhost:8080/"
        },
        "outputId": "1347ebf9-d047-4f14-9d34-87d40229f526"
      },
      "outputs": [
        {
          "output_type": "stream",
          "name": "stdout",
          "text": [
            "1/1 [==============================] - 2s 2s/step\n",
            "1/1 [==============================] - 0s 36ms/step\n",
            "1/1 [==============================] - 0s 33ms/step\n",
            "1/1 [==============================] - 0s 32ms/step\n",
            "1/1 [==============================] - 0s 35ms/step\n",
            "1/1 [==============================] - 0s 37ms/step\n",
            "1/1 [==============================] - 0s 47ms/step\n",
            "1/1 [==============================] - 0s 63ms/step\n",
            "1/1 [==============================] - 3s 3s/step\n",
            "9/9 [==============================] - 5s 527ms/step - loss: 0.3683 - accuracy: 0.8314\n"
          ]
        }
      ],
      "source": [
        "# Evaluate ViT model\n",
        "vit_predictions = []\n",
        "vit_true_labels = []\n",
        "\n",
        "for i in range(len(val_generator)):\n",
        "    batch_images, batch_labels = val_generator[i]\n",
        "    batch_size = batch_images.shape[0]\n",
        "\n",
        "    # Get true labels\n",
        "    vit_true_labels.extend(np.argmax(batch_labels, axis=1))\n",
        "\n",
        "    # Get predictions\n",
        "    batch_predictions = vit_model.predict(batch_images)\n",
        "    vit_predictions.extend(np.argmax(batch_predictions, axis=1))\n",
        "\n",
        "vit_f1 = f1_score(vit_true_labels, vit_predictions, average='weighted')\n",
        "vit_eval = vit_model.evaluate(val_generator)\n",
        "vit_cm = confusion_matrix(vit_true_labels, vit_predictions)\n"
      ]
    },
    {
      "cell_type": "code",
      "execution_count": null,
      "metadata": {
        "id": "oWIgibXtMxV7",
        "colab": {
          "base_uri": "https://localhost:8080/"
        },
        "outputId": "6c7fa80f-5371-4100-f333-a607adb25f0c"
      },
      "outputs": [
        {
          "output_type": "stream",
          "name": "stdout",
          "text": [
            "1/1 [==============================] - 1s 901ms/step\n",
            "1/1 [==============================] - 0s 32ms/step\n",
            "1/1 [==============================] - 0s 31ms/step\n",
            "1/1 [==============================] - 0s 35ms/step\n",
            "1/1 [==============================] - 0s 42ms/step\n",
            "1/1 [==============================] - 0s 45ms/step\n",
            "1/1 [==============================] - 0s 47ms/step\n",
            "1/1 [==============================] - 0s 51ms/step\n",
            "1/1 [==============================] - 1s 1s/step\n",
            "9/9 [==============================] - 5s 445ms/step - loss: 1.5884 - accuracy: 0.6015\n"
          ]
        }
      ],
      "source": [
        "# Evaluate ResNet model\n",
        "resnet_predictions = []\n",
        "resnet_true_labels = []\n",
        "\n",
        "for i in range(len(val_generator)):\n",
        "    batch_images, batch_labels = val_generator[i]\n",
        "    batch_size = batch_images.shape[0]\n",
        "\n",
        "    # Get true labels\n",
        "    resnet_true_labels.extend(np.argmax(batch_labels, axis=1))\n",
        "\n",
        "    # Get predictions\n",
        "    batch_predictions = resnet_model.predict(batch_images)\n",
        "    resnet_predictions.extend(np.argmax(batch_predictions, axis=1))\n",
        "\n",
        "resnet_f1 = f1_score(resnet_true_labels, resnet_predictions, average='weighted')\n",
        "resnet_eval = resnet_model.evaluate(val_generator)\n",
        "resnet_cm = confusion_matrix(resnet_true_labels, resnet_predictions)\n"
      ]
    },
    {
      "cell_type": "code",
      "execution_count": null,
      "metadata": {
        "id": "STBBglaMNmdm",
        "colab": {
          "base_uri": "https://localhost:8080/"
        },
        "outputId": "8746798e-ede0-45f4-f787-c88ebf05f3f2"
      },
      "outputs": [
        {
          "output_type": "stream",
          "name": "stdout",
          "text": [
            "1/1 [==============================] - 1s 780ms/step\n",
            "1/1 [==============================] - 0s 36ms/step\n",
            "1/1 [==============================] - 0s 35ms/step\n",
            "1/1 [==============================] - 0s 36ms/step\n",
            "1/1 [==============================] - 0s 33ms/step\n",
            "1/1 [==============================] - 0s 32ms/step\n",
            "1/1 [==============================] - 0s 34ms/step\n",
            "1/1 [==============================] - 0s 38ms/step\n",
            "1/1 [==============================] - 1s 783ms/step\n",
            "9/9 [==============================] - 6s 679ms/step - loss: 0.0790 - accuracy: 0.9655\n"
          ]
        }
      ],
      "source": [
        "# Evaluate MobileNet model\n",
        "mobilenet_predictions = []\n",
        "mobilenet_true_labels = []\n",
        "\n",
        "for i in range(len(val_generator)):\n",
        "    batch_images, batch_labels = val_generator[i]\n",
        "    batch_size = batch_images.shape[0]\n",
        "\n",
        "    # Get true labels\n",
        "    mobilenet_true_labels.extend(np.argmax(batch_labels, axis=1))\n",
        "\n",
        "    # Get predictions\n",
        "    batch_predictions = mobilenet_model.predict(batch_images)\n",
        "    mobilenet_predictions.extend(np.argmax(batch_predictions, axis=1))\n",
        "\n",
        "mobilenet_f1 = f1_score(mobilenet_true_labels, mobilenet_predictions, average='weighted')\n",
        "mobilenet_eval = mobilenet_model.evaluate(val_generator)\n",
        "mobilenet_cm = confusion_matrix(mobilenet_true_labels, mobilenet_predictions)\n"
      ]
    },
    {
      "cell_type": "markdown",
      "metadata": {
        "id": "tpLV3KehUJx5"
      },
      "source": [
        "## **Models Summary**"
      ]
    },
    {
      "cell_type": "code",
      "execution_count": null,
      "metadata": {
        "id": "KCEtPb0QO3vA",
        "colab": {
          "base_uri": "https://localhost:8080/"
        },
        "outputId": "442afe05-523d-4e7e-83e1-d247507f0df1"
      },
      "outputs": [
        {
          "output_type": "stream",
          "name": "stdout",
          "text": [
            "SVM Accuracy: 0.7203065134099617\n",
            "SVM F1 Score: 0.7179997376079749\n",
            "SVM Confusion Matrix:\n",
            " [[17  5  8  7]\n",
            " [13 57 12  3]\n",
            " [ 3 15 52  1]\n",
            " [ 3  3  0 62]]\n"
          ]
        }
      ],
      "source": [
        "# Print and compare metrics\n",
        "print(\"SVM Accuracy:\", svm_accuracy)\n",
        "print(\"SVM F1 Score:\", svm_f1)\n",
        "print(\"SVM Confusion Matrix:\\n\", svm_cm)\n"
      ]
    },
    {
      "cell_type": "code",
      "execution_count": null,
      "metadata": {
        "id": "NnWGtzDKO5g5",
        "colab": {
          "base_uri": "https://localhost:8080/"
        },
        "outputId": "fd8f5dd2-4401-4156-c0b8-dbf73af914ec"
      },
      "outputs": [
        {
          "output_type": "stream",
          "name": "stdout",
          "text": [
            "CNN Accuracy: 0.8927202820777893\n",
            "CNN F1 Score: 0.8831982792238645\n",
            "CNN Confusion Matrix:\n",
            " [[17 13  3  4]\n",
            " [ 2 82  0  1]\n",
            " [ 4  1 66  0]\n",
            " [ 0  0  0 68]]\n"
          ]
        }
      ],
      "source": [
        "print(\"CNN Accuracy:\", cnn_eval[1])\n",
        "print(\"CNN F1 Score:\", cnn_f1)\n",
        "print(\"CNN Confusion Matrix:\\n\", cnn_cm)\n"
      ]
    },
    {
      "cell_type": "code",
      "execution_count": null,
      "metadata": {
        "id": "Is33yPMhO75o",
        "colab": {
          "base_uri": "https://localhost:8080/"
        },
        "outputId": "3dcc7a9b-0512-4482-99bb-5640ead052dc"
      },
      "outputs": [
        {
          "output_type": "stream",
          "name": "stdout",
          "text": [
            "ViT Accuracy: 0.8314176201820374\n",
            "ViT F1 Score: 0.7886134727755028\n",
            "ViT Confusion Matrix:\n",
            " [[ 1 30  3  3]\n",
            " [ 1 81  2  1]\n",
            " [ 0  0 71  0]\n",
            " [ 0  0  1 67]]\n"
          ]
        }
      ],
      "source": [
        "print(\"ViT Accuracy:\", vit_eval[1])\n",
        "print(\"ViT F1 Score:\", vit_f1)\n",
        "print(\"ViT Confusion Matrix:\\n\", vit_cm)\n"
      ]
    },
    {
      "cell_type": "code",
      "execution_count": null,
      "metadata": {
        "id": "XPgVsPulSicc",
        "colab": {
          "base_uri": "https://localhost:8080/"
        },
        "outputId": "8182bf3b-3a4d-46f1-a823-da7e50401ff6"
      },
      "outputs": [
        {
          "output_type": "stream",
          "name": "stdout",
          "text": [
            "ResNet Accuracy: 0.6015325784683228\n",
            "ResNet F1 Score: 0.53869474402737\n",
            "ResNet Confusion Matrix:\n",
            " [[11  6 13  7]\n",
            " [ 2 17 33 33]\n",
            " [ 1  1 60  9]\n",
            " [ 0  0  0 68]]\n"
          ]
        }
      ],
      "source": [
        "print(\"ResNet Accuracy:\", resnet_eval[1])\n",
        "print(\"ResNet F1 Score:\", resnet_f1)\n",
        "print(\"ResNet Confusion Matrix:\\n\", resnet_cm)\n"
      ]
    },
    {
      "cell_type": "code",
      "execution_count": null,
      "metadata": {
        "id": "KXJVqR7LO-yH",
        "colab": {
          "base_uri": "https://localhost:8080/"
        },
        "outputId": "5122b45c-947f-4196-95ee-67f772f30d1f"
      },
      "outputs": [
        {
          "output_type": "stream",
          "name": "stdout",
          "text": [
            "MobileNet Accuracy: 0.9655172228813171\n",
            "MobileNet F1 Score: 0.9653769251788469\n",
            "MobileNet Confusion Matrix:\n",
            " [[32  5  0  0]\n",
            " [ 3 82  0  0]\n",
            " [ 0  1 70  0]\n",
            " [ 0  0  0 68]]\n"
          ]
        }
      ],
      "source": [
        "print(\"MobileNet Accuracy:\", mobilenet_eval[1])\n",
        "print(\"MobileNet F1 Score:\", mobilenet_f1)\n",
        "print(\"MobileNet Confusion Matrix:\\n\", mobilenet_cm)\n"
      ]
    },
    {
      "cell_type": "code",
      "execution_count": null,
      "metadata": {
        "id": "7vmiljTJEkiu",
        "colab": {
          "base_uri": "https://localhost:8080/",
          "height": 410
        },
        "outputId": "cc662d95-6ad9-433a-97f8-62fd80267041"
      },
      "outputs": [
        {
          "output_type": "display_data",
          "data": {
            "text/plain": [
              "<Figure size 600x400 with 2 Axes>"
            ],
            "image/png": "[encoded data removed]"
          },
          "metadata": {}
        }
      ],
      "source": [
        "target_names = ['Benign', 'Early', 'Pre', 'Pro']\n",
        "\n",
        "# Plot the svm confusion matrix as a heatmap\n",
        "plt.figure(figsize=(6, 4))\n",
        "sns.heatmap(svm_cm, annot=True, fmt='d', cmap='Blues', xticklabels=target_names, yticklabels=target_names)\n",
        "plt.xlabel('Predicted')\n",
        "plt.ylabel('Actual')\n",
        "plt.title('SVM Confusion Matrix')\n",
        "plt.show()\n"
      ]
    },
    {
      "cell_type": "code",
      "execution_count": null,
      "metadata": {
        "id": "eYzOAf8_RuBA",
        "colab": {
          "base_uri": "https://localhost:8080/",
          "height": 410
        },
        "outputId": "c77922ae-e860-4315-e3e2-eda4ab7c646b"
      },
      "outputs": [
        {
          "output_type": "display_data",
          "data": {
            "text/plain": [
              "<Figure size 600x400 with 2 Axes>"
            ],
            "image/png": "[encoded data removed]"
          },
          "metadata": {}
        }
      ],
      "source": [
        "# Plot the cnn confusion matrix as a heatmap\n",
        "plt.figure(figsize=(6, 4))\n",
        "sns.heatmap(cnn_cm, annot=True, fmt='d', cmap='Blues', xticklabels=target_names, yticklabels=target_names)\n",
        "plt.xlabel('Predicted')\n",
        "plt.ylabel('Actual')\n",
        "plt.title('Simple CNN Confusion Matrix')\n",
        "plt.show()"
      ]
    },
    {
      "cell_type": "code",
      "execution_count": null,
      "metadata": {
        "id": "efbFiluzR65w",
        "colab": {
          "base_uri": "https://localhost:8080/",
          "height": 410
        },
        "outputId": "1e459638-44a6-4628-b0b1-8a0c1f6c30bd"
      },
      "outputs": [
        {
          "output_type": "display_data",
          "data": {
            "text/plain": [
              "<Figure size 600x400 with 2 Axes>"
            ],
            "image/png": "[encoded data removed]"
          },
          "metadata": {}
        }
      ],
      "source": [
        "# Plot the Vit confusion matrix as a heatmap\n",
        "plt.figure(figsize=(6, 4))\n",
        "sns.heatmap(vit_cm, annot=True, fmt='d', cmap='Blues', xticklabels=target_names, yticklabels=target_names)\n",
        "plt.xlabel('Predicted')\n",
        "plt.ylabel('Actual')\n",
        "plt.title('Vision Transformer CNN Confusion Matrix')\n",
        "plt.show()"
      ]
    },
    {
      "cell_type": "code",
      "execution_count": null,
      "metadata": {
        "id": "Gm5j_CcOSDHb",
        "colab": {
          "base_uri": "https://localhost:8080/",
          "height": 410
        },
        "outputId": "dfe75418-63e3-4536-b75a-2117a76b8a0d"
      },
      "outputs": [
        {
          "output_type": "display_data",
          "data": {
            "text/plain": [
              "<Figure size 600x400 with 2 Axes>"
            ],
            "image/png": "[encoded data removed]"
          },
          "metadata": {}
        }
      ],
      "source": [
        "# Plot the resnet confusion matrix as a heatmap\n",
        "plt.figure(figsize=(6, 4))\n",
        "sns.heatmap(resnet_cm, annot=True, fmt='d', cmap='Blues', xticklabels=target_names, yticklabels=target_names)\n",
        "plt.xlabel('Predicted')\n",
        "plt.ylabel('Actual')\n",
        "plt.title('Residual Networks Confusion Matrix')\n",
        "plt.show()"
      ]
    },
    {
      "cell_type": "code",
      "execution_count": null,
      "metadata": {
        "id": "ZxHpuhuyTAMC",
        "colab": {
          "base_uri": "https://localhost:8080/",
          "height": 410
        },
        "outputId": "a84bc4d1-ad4e-4da0-b53f-1b3ae7762744"
      },
      "outputs": [
        {
          "output_type": "display_data",
          "data": {
            "text/plain": [
              "<Figure size 600x400 with 2 Axes>"
            ],
            "image/png": "[encoded data removed]"
          },
          "metadata": {}
        }
      ],
      "source": [
        "# Plot the mobilenet confusion matrix as a heatmap\n",
        "plt.figure(figsize=(6, 4))\n",
        "sns.heatmap(mobilenet_cm, annot=True, fmt='d', cmap='Blues', xticklabels=target_names, yticklabels=target_names)\n",
        "plt.xlabel('Predicted')\n",
        "plt.ylabel('Actual')\n",
        "plt.title('MobileNet Confusion Matrix')\n",
        "plt.show()"
      ]
    },
    {
      "cell_type": "markdown",
      "metadata": {
        "id": "wJdXBc4PUQ65"
      },
      "source": [
        "## **Testing the models on a sample**"
      ]
    },
    {
      "cell_type": "code",
      "execution_count": null,
      "metadata": {
        "id": "usQQasZIPTDV"
      },
      "outputs": [],
      "source": [
        "# Load an example image for prediction\n",
        "sample_image_path = '/content/WBC-Malignant-Pro-800.jpg'\n",
        "sample_image = keras.preprocessing.image.load_img(sample_image_path, target_size=IMAGE_SIZE)\n",
        "sample_image_array = keras.preprocessing.image.img_to_array(sample_image)\n",
        "sample_image_array = np.expand_dims(sample_image_array, axis=0)"
      ]
    },
    {
      "cell_type": "code",
      "execution_count": null,
      "metadata": {
        "id": "e65h91pnPvvy",
        "colab": {
          "base_uri": "https://localhost:8080/"
        },
        "outputId": "e04d0343-1e05-4623-8890-00d74af0e80a"
      },
      "outputs": [
        {
          "output_type": "stream",
          "name": "stdout",
          "text": [
            "1/1 [==============================] - 0s 88ms/step\n",
            "1/1 [==============================] - 0s 77ms/step\n",
            "1/1 [==============================] - 0s 452ms/step\n",
            "1/1 [==============================] - 0s 279ms/step\n",
            "SVM Predictions: [3]\n",
            "CNN Predictions: [[1. 0. 0. 0.]]\n",
            "ViT Predictions: [[5.4158431e-01 4.5454043e-01 1.9150392e-04 3.6837338e-03]]\n",
            "ResNet Predictions: [[0. 1. 0. 0.]]\n",
            "MobileNet Predictions: [[4.8797660e-02 7.8972585e-02 8.7219703e-01 3.2774766e-05]]\n"
          ]
        }
      ],
      "source": [
        "# Predictions using the trained models\n",
        "flattened_sample_image_array = sample_image_array.reshape((1, -1))\n",
        "svm_pred = svm_model.predict(flattened_sample_image_array)\n",
        "cnn_pred = cnn_model.predict(sample_image_array)\n",
        "vit_pred = vit_model.predict(sample_image_array)\n",
        "resnet_pred = resnet_model.predict(sample_image_array)\n",
        "mobilenet_pred = mobilenet_model.predict(sample_image_array)\n",
        "\n",
        "# Print predictions\n",
        "print(\"SVM Predictions:\", svm_pred)\n",
        "print(\"CNN Predictions:\", cnn_pred)\n",
        "print(\"ViT Predictions:\", vit_pred)\n",
        "print(\"ResNet Predictions:\", resnet_pred)\n",
        "print(\"MobileNet Predictions:\", mobilenet_pred)"
      ]
    },
    {
      "cell_type": "code",
      "execution_count": null,
      "metadata": {
        "id": "L9dtBCmAzQTU"
      },
      "outputs": [],
      "source": [
        "# Export the models to a directory\n",
        "\n",
        "cnn_model.save('leukemia_classifier_cnn_model')\n",
        "vit_model.save('leukemia_classifier_vit_model')\n",
        "resnet_model.save('leukemia_classifier_resnet_model')\n",
        "mobilenet_model.save('leukemia_classifier_mobilenet_model')\n"
      ]
    },
    {
      "cell_type": "code",
      "execution_count": null,
      "metadata": {
        "id": "qsX2_Qd9TcbR",
        "colab": {
          "base_uri": "https://localhost:8080/"
        },
        "outputId": "0dc6b7c5-5b3a-4ba5-d322-014dc4c0bc1f"
      },
      "outputs": [
        {
          "output_type": "stream",
          "name": "stderr",
          "text": [
            "/usr/local/lib/python3.10/dist-packages/keras/src/engine/training.py:3079: UserWarning: You are saving your model as an HDF5 file via `model.save()`. This file format is considered legacy. We recommend using instead the native Keras format, e.g. `model.save('my_model.keras')`.\n",
            "  saving_api.save_model(\n"
          ]
        }
      ],
      "source": [
        "# Save the Keras model architecture and weights\n",
        "\n",
        "cnn_model.save(\"leukemia_keras_cnn_model.h5\")\n",
        "vit_model.save(\"leukemia_keras_vit_model.h5\")\n",
        "resnet_model.save(\"leukemia_keras_resnet_model.h5\")\n",
        "mobilenet_model.save(\"leukemia_keras_mobilenet_model.h5\")\n"
      ]
    }
  ],
  "metadata": {
    "accelerator": "GPU",
    "colab": {
      "provenance": [],
      "mount_file_id": "1LPGWUALWF3j6PTSIjQl1DimsfYgrtDxJ",
      "authorship_tag": "ABX9TyP/aLsO3/0wzOM+ncmPsWwX",
      "include_colab_link": true
    },
    "kernelspec": {
      "display_name": "Python 3",
      "name": "python3"
    },
    "language_info": {
      "name": "python"
    }
  },
  "nbformat": 4,
  "nbformat_minor": 0
}