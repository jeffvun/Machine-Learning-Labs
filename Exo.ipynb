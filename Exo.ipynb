{
  "nbformat": 4,
  "nbformat_minor": 0,
  "metadata": {
    "colab": {
      "provenance": [],
      "authorship_tag": "ABX9TyP3AVcRaMHsTbq+VvRpa0Vl",
      "include_colab_link": true
    },
    "kernelspec": {
      "name": "ir",
      "display_name": "R"
    },
    "language_info": {
      "name": "R"
    }
  },
  "cells": [
    {
      "cell_type": "markdown",
      "metadata": {
        "id": "view-in-github",
        "colab_type": "text"
      },
      "source": [
        "<a href=\"https://colab.research.google.com/github/jeffvun/Machine-Learning-Labs/blob/main/Exo.ipynb\" target=\"_parent\"><img src=\"https://colab.research.google.com/assets/colab-badge.svg\" alt=\"Open In Colab\"/></a>"
      ]
    },
    {
      "cell_type": "markdown",
      "source": [
        "## **0. Preparations**"
      ],
      "metadata": {
        "id": "BU_iUavexfqj"
      }
    },
    {
      "cell_type": "code",
      "source": [
        "# Loading necessary packages\n",
        "library(ggplot2)\n",
        "library(broom)\n",
        "library(dplyr)"
      ],
      "metadata": {
        "id": "NtA1mI3EiYH3"
      },
      "execution_count": null,
      "outputs": []
    },
    {
      "cell_type": "code",
      "source": [
        "data <- read.csv('/content/ChronicIllness.csv')\n",
        "head(data)"
      ],
      "metadata": {
        "colab": {
          "base_uri": "https://localhost:8080/",
          "height": 286
        },
        "id": "nRvd-dI1t3zN",
        "outputId": "6275ca3c-1211-4149-a518-3c69ac6552b6"
      },
      "execution_count": null,
      "outputs": [
        {
          "output_type": "display_data",
          "data": {
            "text/html": [
              "<table class=\"dataframe\">\n",
              "<caption>A data.frame: 6 × 7</caption>\n",
              "<thead>\n",
              "\t<tr><th></th><th scope=col>X</th><th scope=col>Age</th><th scope=col>Gender</th><th scope=col>Chronic_Illness</th><th scope=col>Current_smoker</th><th scope=col>Vigorous_Exercise</th><th scope=col>Lonely</th></tr>\n",
              "\t<tr><th></th><th scope=col>&lt;int&gt;</th><th scope=col>&lt;int&gt;</th><th scope=col>&lt;int&gt;</th><th scope=col>&lt;int&gt;</th><th scope=col>&lt;int&gt;</th><th scope=col>&lt;int&gt;</th><th scope=col>&lt;int&gt;</th></tr>\n",
              "</thead>\n",
              "<tbody>\n",
              "\t<tr><th scope=row>1</th><td>0</td><td>65</td><td>1</td><td>0</td><td>0</td><td>0</td><td>0</td></tr>\n",
              "\t<tr><th scope=row>2</th><td>1</td><td>65</td><td>0</td><td>0</td><td>0</td><td>0</td><td>0</td></tr>\n",
              "\t<tr><th scope=row>3</th><td>2</td><td>65</td><td>0</td><td>0</td><td>0</td><td>0</td><td>0</td></tr>\n",
              "\t<tr><th scope=row>4</th><td>3</td><td>65</td><td>0</td><td>0</td><td>0</td><td>0</td><td>0</td></tr>\n",
              "\t<tr><th scope=row>5</th><td>4</td><td>65</td><td>1</td><td>0</td><td>0</td><td>0</td><td>0</td></tr>\n",
              "\t<tr><th scope=row>6</th><td>5</td><td>65</td><td>1</td><td>0</td><td>0</td><td>0</td><td>0</td></tr>\n",
              "</tbody>\n",
              "</table>\n"
            ],
            "text/markdown": "\nA data.frame: 6 × 7\n\n| <!--/--> | X &lt;int&gt; | Age &lt;int&gt; | Gender &lt;int&gt; | Chronic_Illness &lt;int&gt; | Current_smoker &lt;int&gt; | Vigorous_Exercise &lt;int&gt; | Lonely &lt;int&gt; |\n|---|---|---|---|---|---|---|---|\n| 1 | 0 | 65 | 1 | 0 | 0 | 0 | 0 |\n| 2 | 1 | 65 | 0 | 0 | 0 | 0 | 0 |\n| 3 | 2 | 65 | 0 | 0 | 0 | 0 | 0 |\n| 4 | 3 | 65 | 0 | 0 | 0 | 0 | 0 |\n| 5 | 4 | 65 | 1 | 0 | 0 | 0 | 0 |\n| 6 | 5 | 65 | 1 | 0 | 0 | 0 | 0 |\n\n",
            "text/latex": "A data.frame: 6 × 7\n\\begin{tabular}{r|lllllll}\n  & X & Age & Gender & Chronic\\_Illness & Current\\_smoker & Vigorous\\_Exercise & Lonely\\\\\n  & <int> & <int> & <int> & <int> & <int> & <int> & <int>\\\\\n\\hline\n\t1 & 0 & 65 & 1 & 0 & 0 & 0 & 0\\\\\n\t2 & 1 & 65 & 0 & 0 & 0 & 0 & 0\\\\\n\t3 & 2 & 65 & 0 & 0 & 0 & 0 & 0\\\\\n\t4 & 3 & 65 & 0 & 0 & 0 & 0 & 0\\\\\n\t5 & 4 & 65 & 1 & 0 & 0 & 0 & 0\\\\\n\t6 & 5 & 65 & 1 & 0 & 0 & 0 & 0\\\\\n\\end{tabular}\n",
            "text/plain": [
              "  X Age Gender Chronic_Illness Current_smoker Vigorous_Exercise Lonely\n",
              "1 0 65  1      0               0              0                 0     \n",
              "2 1 65  0      0               0              0                 0     \n",
              "3 2 65  0      0               0              0                 0     \n",
              "4 3 65  0      0               0              0                 0     \n",
              "5 4 65  1      0               0              0                 0     \n",
              "6 5 65  1      0               0              0                 0     "
            ]
          },
          "metadata": {}
        }
      ]
    },
    {
      "cell_type": "markdown",
      "source": [
        "## **1. Identifying the Data type for each variable in the dataset**"
      ],
      "metadata": {
        "id": "l5ewgwmbfKNS"
      }
    },
    {
      "cell_type": "markdown",
      "source": [
        "1. Chronic Illness: Binary categorical (0 or 1)\n",
        "2. Age: Continuous numerical\n",
        "3. Gender: Binary categorical (0 for male, 1 for female)\n",
        "4. Current Smoker: Binary categorical (0 or 1)\n",
        "5. Vigorous Exercise: Binary categorical (0 or 1)\n",
        "6. Lonely: Binary categorical (0 or 1)"
      ],
      "metadata": {
        "id": "oHN-sxgnfdC7"
      }
    },
    {
      "cell_type": "code",
      "source": [
        "sapply(data, class)"
      ],
      "metadata": {
        "id": "UKXWPlDkh1en",
        "colab": {
          "base_uri": "https://localhost:8080/",
          "height": 34
        },
        "outputId": "845841fe-8e7d-4253-b08a-5e33d82ab3a6"
      },
      "execution_count": null,
      "outputs": [
        {
          "output_type": "display_data",
          "data": {
            "text/html": [
              "<style>\n",
              ".dl-inline {width: auto; margin:0; padding: 0}\n",
              ".dl-inline>dt, .dl-inline>dd {float: none; width: auto; display: inline-block}\n",
              ".dl-inline>dt::after {content: \":\\0020\"; padding-right: .5ex}\n",
              ".dl-inline>dt:not(:first-of-type) {padding-left: .5ex}\n",
              "</style><dl class=dl-inline><dt>X</dt><dd>'integer'</dd><dt>Age</dt><dd>'integer'</dd><dt>Gender</dt><dd>'integer'</dd><dt>Chronic_Illness</dt><dd>'integer'</dd><dt>Current_smoker</dt><dd>'integer'</dd><dt>Vigorous_Exercise</dt><dd>'integer'</dd><dt>Lonely</dt><dd>'integer'</dd></dl>\n"
            ],
            "text/markdown": "X\n:   'integer'Age\n:   'integer'Gender\n:   'integer'Chronic_Illness\n:   'integer'Current_smoker\n:   'integer'Vigorous_Exercise\n:   'integer'Lonely\n:   'integer'\n\n",
            "text/latex": "\\begin{description*}\n\\item[X] 'integer'\n\\item[Age] 'integer'\n\\item[Gender] 'integer'\n\\item[Chronic\\textbackslash{}\\_Illness] 'integer'\n\\item[Current\\textbackslash{}\\_smoker] 'integer'\n\\item[Vigorous\\textbackslash{}\\_Exercise] 'integer'\n\\item[Lonely] 'integer'\n\\end{description*}\n",
            "text/plain": [
              "                X               Age            Gender   Chronic_Illness \n",
              "        \"integer\"         \"integer\"         \"integer\"         \"integer\" \n",
              "   Current_smoker Vigorous_Exercise            Lonely \n",
              "        \"integer\"         \"integer\"         \"integer\" "
            ]
          },
          "metadata": {}
        }
      ]
    },
    {
      "cell_type": "markdown",
      "source": [
        "## **2. Additional information regarding the definition of \"Vigorous_Exercise\" and \"Lonely\" variables:**"
      ],
      "metadata": {
        "id": "paMzb5Ysfrz8"
      }
    },
    {
      "cell_type": "markdown",
      "source": [
        "To aid the interpretation of these variables, we would need to know:\n",
        "\n",
        "1. How \"Vigorous_Exercise\" is defined or measured. What constitutes vigorous exercise? Is it based on frequency, duration, or intensity ?\n",
        "\n",
        "2. Similarly, for \"Lonely,\" it's important to understand the criteria for classifying someone as lonely. Is it self-reported, and what does the scale or measure of loneliness encompass ?"
      ],
      "metadata": {
        "id": "k8lAsaydgfuZ"
      }
    },
    {
      "cell_type": "markdown",
      "source": [
        "## **3. Univariate logistic regression to estimate the association between chronic illness and being lonely:**\n",
        "\n"
      ],
      "metadata": {
        "id": "WSl49axGg3Z1"
      }
    },
    {
      "cell_type": "markdown",
      "source": [
        "### ***a. Univariate Logistic Regression***"
      ],
      "metadata": {
        "id": "F3aVSO1gjNRE"
      }
    },
    {
      "cell_type": "code",
      "source": [
        "# R code for univariate logistic regression\n",
        "\n",
        "univariate_model <- glm(Chronic_Illness ~ Lonely, data = data, family = \"binomial\")\n"
      ],
      "metadata": {
        "id": "y-tvzKtQhnSX"
      },
      "execution_count": null,
      "outputs": []
    },
    {
      "cell_type": "markdown",
      "source": [
        "### ***b. Report Results***"
      ],
      "metadata": {
        "id": "_LbWx9BJhBFs"
      }
    },
    {
      "cell_type": "code",
      "source": [
        "summary(univariate_model)\n",
        "summary_table <-summary(univariate_model)"
      ],
      "metadata": {
        "colab": {
          "base_uri": "https://localhost:8080/",
          "height": 364
        },
        "id": "vX5bd3-snjx7",
        "outputId": "13c1346b-121c-4cae-838c-b1371dfca0ca"
      },
      "execution_count": null,
      "outputs": [
        {
          "output_type": "display_data",
          "data": {
            "text/plain": [
              "\n",
              "Call:\n",
              "glm(formula = Chronic_Illness ~ Lonely, family = \"binomial\", \n",
              "    data = data)\n",
              "\n",
              "Coefficients:\n",
              "            Estimate Std. Error z value Pr(>|z|)    \n",
              "(Intercept)  0.24113    0.01723   14.00   <2e-16 ***\n",
              "Lonely       0.52350    0.03266   16.03   <2e-16 ***\n",
              "---\n",
              "Signif. codes:  0 ‘***’ 0.001 ‘**’ 0.01 ‘*’ 0.05 ‘.’ 0.1 ‘ ’ 1\n",
              "\n",
              "(Dispersion parameter for binomial family taken to be 1)\n",
              "\n",
              "    Null deviance: 26517  on 19667  degrees of freedom\n",
              "Residual deviance: 26253  on 19666  degrees of freedom\n",
              "AIC: 26257\n",
              "\n",
              "Number of Fisher Scoring iterations: 4\n"
            ]
          },
          "metadata": {}
        }
      ]
    },
    {
      "cell_type": "markdown",
      "source": [
        "### ***c. Interpretation of Odds Ratio***"
      ],
      "metadata": {
        "id": "8LIhtFYVkAo5"
      }
    },
    {
      "cell_type": "code",
      "source": [
        "# c) Interpret the odds ratios with R code\n",
        "\n",
        "odds_ratio_lonely <- exp(coef(univariate_model)[\"Lonely\"])\n",
        "odds_ratio_constant <- exp(coef(univariate_model)[\"(Intercept)\"])\n",
        "\n",
        "interpretation <- data.frame(\n",
        "  Variable = c(\"Constant\", \"Lonely\"),\n",
        "  Odds_Ratio = c(odds_ratio_constant, odds_ratio_lonely),\n",
        "  p_value = summary_table$coefficients[\"Lonely\", \"Pr(>|z|)\"]\n",
        ")\n",
        "interpretation\n"
      ],
      "metadata": {
        "colab": {
          "base_uri": "https://localhost:8080/",
          "height": 161
        },
        "id": "6ioKssZq0QFt",
        "outputId": "2f0e5e8d-8aae-4826-f931-8deec205067b"
      },
      "execution_count": null,
      "outputs": [
        {
          "output_type": "display_data",
          "data": {
            "text/html": [
              "<table class=\"dataframe\">\n",
              "<caption>A data.frame: 2 × 3</caption>\n",
              "<thead>\n",
              "\t<tr><th></th><th scope=col>Variable</th><th scope=col>Odds_Ratio</th><th scope=col>p_value</th></tr>\n",
              "\t<tr><th></th><th scope=col>&lt;chr&gt;</th><th scope=col>&lt;dbl&gt;</th><th scope=col>&lt;dbl&gt;</th></tr>\n",
              "</thead>\n",
              "<tbody>\n",
              "\t<tr><th scope=row>(Intercept)</th><td>Constant</td><td>1.272682</td><td>8.212306e-58</td></tr>\n",
              "\t<tr><th scope=row>Lonely</th><td>Lonely  </td><td>1.687921</td><td>8.212306e-58</td></tr>\n",
              "</tbody>\n",
              "</table>\n"
            ],
            "text/markdown": "\nA data.frame: 2 × 3\n\n| <!--/--> | Variable &lt;chr&gt; | Odds_Ratio &lt;dbl&gt; | p_value &lt;dbl&gt; |\n|---|---|---|---|\n| (Intercept) | Constant | 1.272682 | 8.212306e-58 |\n| Lonely | Lonely   | 1.687921 | 8.212306e-58 |\n\n",
            "text/latex": "A data.frame: 2 × 3\n\\begin{tabular}{r|lll}\n  & Variable & Odds\\_Ratio & p\\_value\\\\\n  & <chr> & <dbl> & <dbl>\\\\\n\\hline\n\t(Intercept) & Constant & 1.272682 & 8.212306e-58\\\\\n\tLonely & Lonely   & 1.687921 & 8.212306e-58\\\\\n\\end{tabular}\n",
            "text/plain": [
              "            Variable Odds_Ratio p_value     \n",
              "(Intercept) Constant 1.272682   8.212306e-58\n",
              "Lonely      Lonely   1.687921   8.212306e-58"
            ]
          },
          "metadata": {}
        }
      ]
    },
    {
      "cell_type": "markdown",
      "source": [
        "The constant represents the odds of having a chronic illness when all independent variables are 0.\n",
        "\n",
        "The odds ratio for \"Lonely\" represents the change in the odds of having a chronic illness when an individual is lonely compared to not being lonely.\n",
        "> If it's less than 1, it indicates a decreased odds : lonely people are not at risk.\n",
        "\n",
        "> And if it's greater than 1, it indicates an increased odds : lonely people are at higher risk.\n"
      ],
      "metadata": {
        "id": "wXMezWCopT1G"
      }
    },
    {
      "cell_type": "markdown",
      "source": [
        "> Since odds_ratio for Lonely = 1.687 > 1 therefore we can deduce that Lonely people are considered at risk for chronic illness\n",
        "\n"
      ],
      "metadata": {
        "id": "0iAeogDp1cS9"
      }
    },
    {
      "cell_type": "markdown",
      "source": [
        "### ***Need to include other variables***"
      ],
      "metadata": {
        "id": "oqyxwbUXlBad"
      }
    },
    {
      "cell_type": "markdown",
      "source": [
        "Incorporating additional variables into the regression model is advisable as it allows for the mitigation of potential confounding factors.\n",
        "\n",
        "In this univariate model, we only examine the relationship between \"Lonely\" and \"Chronic_Illness\" in isolation.\n",
        "However, in real-world scenarios, other factors like Age, Gender, Current Smoker, and Vigorous Exercise\n",
        "can also impact an individual's likelihood of having a chronic illness.\n",
        "\n",
        "By including these additional variables in the model, we can control for their effects, which helps us to more accurately isolate and assess the specific effect of \"Lonely\" on \"Chronic_Illness.\"\n",
        "\n",
        "This approach allows us to distinguish whether loneliness has an independent influence on chronic illness\n",
        "after accounting for the potential confounding effects of these other variables."
      ],
      "metadata": {
        "id": "-D44_clPlB17"
      }
    },
    {
      "cell_type": "markdown",
      "source": [
        "## **4.Multivariable logistic regression using all five independent variables:**"
      ],
      "metadata": {
        "id": "kVzArNTEpsTK"
      }
    },
    {
      "cell_type": "markdown",
      "source": [
        "### ***a. Regression Equation***"
      ],
      "metadata": {
        "id": "3CP-ZFAapydw"
      }
    },
    {
      "cell_type": "markdown",
      "source": [
        "The logistic regression equation would be:\n",
        "\n",
        ">\n",
        "```\n",
        "logit(P(Chronic_Illness)) =\n",
        "\n",
        "β0 + β1 * Age +\n",
        "β2 * Gender + β3 * Current_smoker +\n",
        "β4 * Vigorous_Exercise + β5 * Lonely\n",
        "```"
      ],
      "metadata": {
        "id": "nOi0YLsap8A3"
      }
    },
    {
      "cell_type": "markdown",
      "source": [
        "### ***b. Multivariable Logistic Regression***"
      ],
      "metadata": {
        "id": "1fGCVE_RqPSa"
      }
    },
    {
      "cell_type": "code",
      "source": [
        "multivariable_model <- glm(Chronic_Illness ~ Age + Gender + Current_smoker + Vigorous_Exercise + Lonely, data = data, family = \"binomial\")\n"
      ],
      "metadata": {
        "id": "3gsjY39zqRmP"
      },
      "execution_count": null,
      "outputs": []
    },
    {
      "cell_type": "markdown",
      "source": [
        "### ***c. Report Results***"
      ],
      "metadata": {
        "id": "6N0tGAstq2Z6"
      }
    },
    {
      "cell_type": "code",
      "source": [
        "summary(multivariable_model)\n",
        "summary_multivariable_table<-summary(multivariable_model)"
      ],
      "metadata": {
        "colab": {
          "base_uri": "https://localhost:8080/",
          "height": 437
        },
        "id": "x4_FAO5Fq6VN",
        "outputId": "a1b78537-a99a-429f-a445-8cc1183579ed"
      },
      "execution_count": null,
      "outputs": [
        {
          "output_type": "display_data",
          "data": {
            "text/plain": [
              "\n",
              "Call:\n",
              "glm(formula = Chronic_Illness ~ Age + Gender + Current_smoker + \n",
              "    Vigorous_Exercise + Lonely, family = \"binomial\", data = data)\n",
              "\n",
              "Coefficients:\n",
              "                   Estimate Std. Error z value Pr(>|z|)    \n",
              "(Intercept)       -0.549287   0.206711  -2.657  0.00788 ** \n",
              "Age                0.015708   0.002794   5.623 1.88e-08 ***\n",
              "Gender            -0.094880   0.030517  -3.109  0.00188 ** \n",
              "Current_smoker     0.078383   0.053316   1.470  0.14152    \n",
              "Vigorous_Exercise -0.764883   0.031645 -24.171  < 2e-16 ***\n",
              "Lonely             0.444960   0.033819  13.157  < 2e-16 ***\n",
              "---\n",
              "Signif. codes:  0 ‘***’ 0.001 ‘**’ 0.01 ‘*’ 0.05 ‘.’ 0.1 ‘ ’ 1\n",
              "\n",
              "(Dispersion parameter for binomial family taken to be 1)\n",
              "\n",
              "    Null deviance: 26517  on 19667  degrees of freedom\n",
              "Residual deviance: 25548  on 19662  degrees of freedom\n",
              "AIC: 25560\n",
              "\n",
              "Number of Fisher Scoring iterations: 4\n"
            ]
          },
          "metadata": {}
        }
      ]
    },
    {
      "cell_type": "markdown",
      "source": [
        "### ***d. Interpretation of Odds ratios***"
      ],
      "metadata": {
        "id": "t5r-G5O8st_C"
      }
    },
    {
      "cell_type": "code",
      "source": [
        "odds_age <- exp(coef(multivariable_model)[\"Age\"])\n",
        "odds_gender <- exp(coef(multivariable_model)[\"Gender\"])\n",
        "odds_smoker <- exp(coef(multivariable_model)[\"Current_smoker\"])\n",
        "\n",
        "interpretation_multivariable <- data.frame(\n",
        "  Variable = c(\"Age\", \"Gender\", \"Current_smoker\"),\n",
        "  Odds_Ratio = c(odds_age, odds_gender, odds_smoker),\n",
        "  p_value = summary_multivariable_table$coefficients[c(\"Age\", \"Gender\", \"Current_smoker\"), \"Pr(>|z|)\"]\n",
        ")\n",
        "interpretation_multivariable"
      ],
      "metadata": {
        "colab": {
          "base_uri": "https://localhost:8080/",
          "height": 192
        },
        "id": "ryBYCbAW3wPS",
        "outputId": "722094dc-e5b8-496f-c1c2-b5b0ee352e2d"
      },
      "execution_count": null,
      "outputs": [
        {
          "output_type": "display_data",
          "data": {
            "text/html": [
              "<table class=\"dataframe\">\n",
              "<caption>A data.frame: 3 × 3</caption>\n",
              "<thead>\n",
              "\t<tr><th></th><th scope=col>Variable</th><th scope=col>Odds_Ratio</th><th scope=col>p_value</th></tr>\n",
              "\t<tr><th></th><th scope=col>&lt;chr&gt;</th><th scope=col>&lt;dbl&gt;</th><th scope=col>&lt;dbl&gt;</th></tr>\n",
              "</thead>\n",
              "<tbody>\n",
              "\t<tr><th scope=row>Age</th><td>Age           </td><td>1.0158321</td><td>1.878458e-08</td></tr>\n",
              "\t<tr><th scope=row>Gender</th><td>Gender        </td><td>0.9094822</td><td>1.876970e-03</td></tr>\n",
              "\t<tr><th scope=row>Current_smoker</th><td>Current_smoker</td><td>1.0815368</td><td>1.415159e-01</td></tr>\n",
              "</tbody>\n",
              "</table>\n"
            ],
            "text/markdown": "\nA data.frame: 3 × 3\n\n| <!--/--> | Variable &lt;chr&gt; | Odds_Ratio &lt;dbl&gt; | p_value &lt;dbl&gt; |\n|---|---|---|---|\n| Age | Age            | 1.0158321 | 1.878458e-08 |\n| Gender | Gender         | 0.9094822 | 1.876970e-03 |\n| Current_smoker | Current_smoker | 1.0815368 | 1.415159e-01 |\n\n",
            "text/latex": "A data.frame: 3 × 3\n\\begin{tabular}{r|lll}\n  & Variable & Odds\\_Ratio & p\\_value\\\\\n  & <chr> & <dbl> & <dbl>\\\\\n\\hline\n\tAge & Age            & 1.0158321 & 1.878458e-08\\\\\n\tGender & Gender         & 0.9094822 & 1.876970e-03\\\\\n\tCurrent\\_smoker & Current\\_smoker & 1.0815368 & 1.415159e-01\\\\\n\\end{tabular}\n",
            "text/plain": [
              "               Variable       Odds_Ratio p_value     \n",
              "Age            Age            1.0158321  1.878458e-08\n",
              "Gender         Gender         0.9094822  1.876970e-03\n",
              "Current_smoker Current_smoker 1.0815368  1.415159e-01"
            ]
          },
          "metadata": {}
        }
      ]
    },
    {
      "cell_type": "markdown",
      "source": [
        "The odds ratio for Age indicates how a one-unit change in age affects the odds of having a chronic illness.\n",
        "> If the odds ratio is greater than 1, it suggests that older individuals are more likely to have a chronic illness.\n",
        "\n",
        "The odds ratio for Gender indicates the change in the odds of having a chronic illness for females compared to males\n",
        "> If it's greater than 1, females are at higher odds.\n",
        "\n",
        "The odds ratio for Current Smoker indicates the change in the odds of having a chronic illness for current smokers compared to non-smokers\n",
        "> If it's greater than 1, smokers are at higher odds."
      ],
      "metadata": {
        "id": "wsyBlS1CtC0w"
      }
    },
    {
      "cell_type": "markdown",
      "source": [
        "### ***Odds for Loneliness***"
      ],
      "metadata": {
        "id": "NOh8Jmt7vuMY"
      }
    },
    {
      "cell_type": "markdown",
      "source": [
        "The odds ratio for \"Lonely\" may change in the multivariable model compared to the univariate model because it accounts for the effects of other variables in the model.\n",
        "\n",
        "It represents the change in the odds of having a chronic illness associated with loneliness while controlling for age, gender, smoking status, and exercise.\n",
        "\n",
        "The univariate model does not account for these potential confounders."
      ],
      "metadata": {
        "id": "dUOzSrV3vulF"
      }
    },
    {
      "cell_type": "markdown",
      "source": [
        "### ***For a 30 year old ?***"
      ],
      "metadata": {
        "id": "54E6GgcaxHFs"
      }
    },
    {
      "cell_type": "markdown",
      "source": [
        "The model might not be appropriate for calculating the odds of having a chronic illness in someone aged 30 because the dataset only includes individuals aged 65 to 84. Extrapolating to an age outside this range could lead to unreliable results."
      ],
      "metadata": {
        "id": "BWYwa4nOxMgZ"
      }
    },
    {
      "cell_type": "markdown",
      "source": [
        "## ***5. Calculate the predicted odds and probability of having a chronic illness:***"
      ],
      "metadata": {
        "id": "vEFo4uTsxS-m"
      }
    },
    {
      "cell_type": "markdown",
      "source": [
        "### *Scenario*"
      ],
      "metadata": {
        "id": "CBCPs646xbrZ"
      }
    },
    {
      "cell_type": "markdown",
      "source": [
        "Case: you are lonely, aged 65, female, smoke and do not vigorously exercise."
      ],
      "metadata": {
        "id": "jPoyTWF4x9Pz"
      }
    },
    {
      "cell_type": "code",
      "source": [
        "age_pred <- 65\n",
        "gender_pred <- 1    # Female\n",
        "smoker_pred <- 1    # smokes\n",
        "exercise_pred <- 0  # No exercise\n",
        "lonely_pred <- 1    # lonely\n"
      ],
      "metadata": {
        "id": "jMrvPhY8yPcc"
      },
      "execution_count": null,
      "outputs": []
    },
    {
      "cell_type": "markdown",
      "source": [
        "### *Predicted Odds and Probability*"
      ],
      "metadata": {
        "id": "t72D685JyQF4"
      }
    },
    {
      "cell_type": "markdown",
      "source": [
        "Calculate the predicted odds for the cse and Using the odds ratio estimate the predicted\n",
        "probability of having a chronic illness in this group."
      ],
      "metadata": {
        "id": "PYi2TYXUyXl3"
      }
    },
    {
      "cell_type": "code",
      "source": [
        "# a) Calculate the predicted odds for a specific case\n",
        "log_odds_pred <- coef(multivariable_model)[\"(Intercept)\"] +\n",
        "  coef(multivariable_model)[\"Age\"] * age_pred +\n",
        "  coef(multivariable_model)[\"Gender\"] * gender_pred +\n",
        "  coef(multivariable_model)[\"Current_smoker\"] * smoker_pred +\n",
        "  coef(multivariable_model)[\"Vigorous_Exercise\"] * exercise_pred +\n",
        "  coef(multivariable_model)[\"Lonely\"] * lonely_pred\n",
        "\n",
        "# b) Calculate the predicted probability\n",
        "probability_pred <- exp(log_odds_pred) / (1 + exp(log_odds_pred))\n",
        "\n",
        "# Print the results\n",
        "sprintf(\"Predicted Odds : %s\", log_odds_pred)\n",
        "sprintf(\"Predicted Probability: %s: \",  probability_pred)"
      ],
      "metadata": {
        "colab": {
          "base_uri": "https://localhost:8080/",
          "height": 52
        },
        "id": "VRzf95oLyjvs",
        "outputId": "68431cc5-360f-47d8-8295-5aa386b7a6d1"
      },
      "execution_count": null,
      "outputs": [
        {
          "output_type": "display_data",
          "data": {
            "text/html": [
              "'Predicted Odds : 0.900198458109054'"
            ],
            "text/markdown": "'Predicted Odds : 0.900198458109054'",
            "text/latex": "'Predicted Odds : 0.900198458109054'",
            "text/plain": [
              "[1] \"Predicted Odds : 0.900198458109054\""
            ]
          },
          "metadata": {}
        },
        {
          "output_type": "display_data",
          "data": {
            "text/html": [
              "'Predicted Probability: 0.710990284119973: '"
            ],
            "text/markdown": "'Predicted Probability: 0.710990284119973: '",
            "text/latex": "'Predicted Probability: 0.710990284119973: '",
            "text/plain": [
              "[1] \"Predicted Probability: 0.710990284119973: \""
            ]
          },
          "metadata": {}
        }
      ]
    },
    {
      "cell_type": "markdown",
      "source": [
        "71.0% Chance that the Lady from the Case could have a chronic illness."
      ],
      "metadata": {
        "id": "tYUIGZC76dr4"
      }
    }
  ]
}