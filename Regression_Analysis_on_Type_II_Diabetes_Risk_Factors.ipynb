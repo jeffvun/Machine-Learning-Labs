{
  "nbformat": 4,
  "nbformat_minor": 0,
  "metadata": {
    "colab": {
      "provenance": [],
      "authorship_tag": "ABX9TyPbF9l8pz5JhxM6Q0U47WHT",
      "include_colab_link": true
    },
    "kernelspec": {
      "name": "ir",
      "display_name": "R"
    },
    "language_info": {
      "name": "R"
    }
  },
  "cells": [
    {
      "cell_type": "markdown",
      "metadata": {
        "id": "view-in-github",
        "colab_type": "text"
      },
      "source": [
        "<a href=\"https://colab.research.google.com/github/jeffvun/Machine-Learning-Labs/blob/main/Regression_Analysis_on_Type_II_Diabetes_Risk_Factors.ipynb\" target=\"_parent\"><img src=\"https://colab.research.google.com/assets/colab-badge.svg\" alt=\"Open In Colab\"/></a>"
      ]
    },
    {
      "cell_type": "markdown",
      "source": [
        "# **Regression Analysis for Type II Diabetes Risk Factors**"
      ],
      "metadata": {
        "id": "wfGHOLoo5iP5"
      }
    },
    {
      "cell_type": "code",
      "source": [
        "install.packages(\"caret\")\n",
        "install.packages(\"glmnet\")\n",
        "install.packages(\"haven\")"
      ],
      "metadata": {
        "colab": {
          "base_uri": "https://localhost:8080/"
        },
        "id": "lhcBs24qdELf",
        "outputId": "c2363fec-1053-4321-d862-66d5962ceec7"
      },
      "execution_count": null,
      "outputs": [
        {
          "output_type": "stream",
          "name": "stderr",
          "text": [
            "Installing package into ‘/usr/local/lib/R/site-library’\n",
            "(as ‘lib’ is unspecified)\n",
            "\n",
            "Installing package into ‘/usr/local/lib/R/site-library’\n",
            "(as ‘lib’ is unspecified)\n",
            "\n",
            "Installing package into ‘/usr/local/lib/R/site-library’\n",
            "(as ‘lib’ is unspecified)\n",
            "\n"
          ]
        }
      ]
    },
    {
      "cell_type": "code",
      "execution_count": null,
      "metadata": {
        "colab": {
          "base_uri": "https://localhost:8080/"
        },
        "id": "6eJ0YPyM3_ze",
        "outputId": "62199f75-79ef-4675-f38e-4f8164676275"
      },
      "outputs": [
        {
          "output_type": "stream",
          "name": "stderr",
          "text": [
            "\n",
            "Attaching package: ‘dplyr’\n",
            "\n",
            "\n",
            "The following objects are masked from ‘package:stats’:\n",
            "\n",
            "    filter, lag\n",
            "\n",
            "\n",
            "The following objects are masked from ‘package:base’:\n",
            "\n",
            "    intersect, setdiff, setequal, union\n",
            "\n",
            "\n",
            "Loading required package: lattice\n",
            "\n",
            "Loading required package: Matrix\n",
            "\n",
            "\n",
            "Attaching package: ‘Matrix’\n",
            "\n",
            "\n",
            "The following objects are masked from ‘package:tidyr’:\n",
            "\n",
            "    expand, pack, unpack\n",
            "\n",
            "\n",
            "Loaded glmnet 4.1-8\n",
            "\n"
          ]
        }
      ],
      "source": [
        "# Load necessary libraries\n",
        "library(haven)    # For reading Stata datasets\n",
        "library(tidyr)    # For data manipulation\n",
        "library(dplyr)    # For data manipulation and piping\n",
        "library(ggplot2)  # For data visualization\n",
        "library(caret)    # For model evaluation\n",
        "library(glmnet)   # For Lasso regression"
      ]
    },
    {
      "cell_type": "code",
      "source": [
        "# Load the dataset\n",
        "data <- read_dta(\"/content/survey2019.dta\")\n",
        "# Data Exploration\n",
        "summary(data)\n"
      ],
      "metadata": {
        "colab": {
          "base_uri": "https://localhost:8080/",
          "height": 401
        },
        "id": "E-4SCDKtbArf",
        "outputId": "57251747-f3c2-459a-9679-1daf8ee65d2c"
      },
      "execution_count": null,
      "outputs": [
        {
          "output_type": "display_data",
          "data": {
            "text/plain": [
              "       id            sex            age           marstatc         employ     \n",
              " Min.   :   8   Min.   :0.00   Min.   :16.00   Min.   :0.000   Min.   :0.000  \n",
              " 1st Qu.: 900   1st Qu.:0.00   1st Qu.:36.00   1st Qu.:0.000   1st Qu.:0.000  \n",
              " Median :1873   Median :1.00   Median :50.00   Median :1.000   Median :1.000  \n",
              " Mean   :1930   Mean   :0.52   Mean   :50.22   Mean   :0.556   Mean   :0.538  \n",
              " 3rd Qu.:2864   3rd Qu.:1.00   3rd Qu.:65.00   3rd Qu.:1.000   3rd Qu.:1.000  \n",
              " Max.   :3988   Max.   :1.00   Max.   :93.00   Max.   :1.000   Max.   :1.000  \n",
              "      bmi           BP_diast           t2d            smoker     \n",
              " Min.   :17.25   Min.   : 47.00   Min.   :0.000   Min.   :0.000  \n",
              " 1st Qu.:24.43   1st Qu.: 65.50   1st Qu.:0.000   1st Qu.:0.000  \n",
              " Median :27.47   Median : 72.00   Median :0.000   Median :0.000  \n",
              " Mean   :28.39   Mean   : 72.57   Mean   :0.058   Mean   :0.172  \n",
              " 3rd Qu.:31.20   3rd Qu.: 79.00   3rd Qu.:0.000   3rd Qu.:0.000  \n",
              " Max.   :50.10   Max.   :119.50   Max.   :1.000   Max.   :1.000  \n",
              "     health     \n",
              " Min.   : 6.00  \n",
              " 1st Qu.:70.00  \n",
              " Median :75.00  \n",
              " Mean   :75.04  \n",
              " 3rd Qu.:80.00  \n",
              " Max.   :95.00  "
            ]
          },
          "metadata": {}
        }
      ]
    },
    {
      "cell_type": "code",
      "source": [
        "str(data)"
      ],
      "metadata": {
        "colab": {
          "base_uri": "https://localhost:8080/"
        },
        "id": "QTJpwPsRjjB7",
        "outputId": "08ac3538-7240-47d8-c828-0c05c09c5d89"
      },
      "execution_count": null,
      "outputs": [
        {
          "output_type": "stream",
          "name": "stdout",
          "text": [
            "tibble [500 × 10] (S3: tbl_df/tbl/data.frame)\n",
            " $ id      : num [1:500] 98 1183 712 1206 230 ...\n",
            "  ..- attr(*, \"format.stata\")= chr \"%9.0g\"\n",
            " $ sex     : dbl+lbl [1:500] 1, 0, 0, 0, 0, 0, 1, 0, 1, 1, 1, 0, 1, 1, 0, 1, 0, 0, ...\n",
            "   ..@ label       : chr \"Sex\"\n",
            "   ..@ format.stata: chr \"%23.0g\"\n",
            "   ..@ labels      : Named num [1:2] 0 1\n",
            "   .. ..- attr(*, \"names\")= chr [1:2] \"Male\" \"Female\"\n",
            " $ age     : dbl+lbl [1:500] 41, 17, 63, 21, 85, 21, 84, 74, 40, 63, 23, 92, 18, 66...\n",
            "   ..@ label       : chr \"Age last birthday\"\n",
            "   ..@ format.stata: chr \"%8.0g\"\n",
            "   ..@ labels      : Named num [1:6] -9 -8 -7 -6 -2 -1\n",
            "   .. ..- attr(*, \"names\")= chr [1:6] \"Refused\" \"Don't know\" \"Refused/not obtained\" \"Schedule not obtained\" ...\n",
            " $ marstatc: dbl+lbl [1:500] 1, 0, 1, 0, 0, 0, 0, 0, 1, 0, 0, 0, 0, 1, 1, 1, 0, 0, ...\n",
            "   ..@ label       : chr \"Marital status\"\n",
            "   ..@ format.stata: chr \"%47.0g\"\n",
            "   ..@ labels      : Named num [1:2] 0 1\n",
            "   .. ..- attr(*, \"names\")= chr [1:2] \"Currently not married\" \"Currently married\"\n",
            " $ employ  : dbl+lbl [1:500] 0, 0, 1, 1, 0, 0, 0, 0, 1, 0, 1, 0, 1, 0, 1, 1, 1, 0, ...\n",
            "   ..@ label       : chr \"Employment status (2 groups)\"\n",
            "   ..@ format.stata: chr \"%14.0g\"\n",
            "   ..@ labels      : Named num [1:2] 0 1\n",
            "   .. ..- attr(*, \"names\")= chr [1:2] \"Not in work\" \"In work\"\n",
            " $ bmi     : num [1:500] 22.7 23.4 28.7 26.6 22.3 ...\n",
            "  ..- attr(*, \"label\")= chr \"BMI measurement\"\n",
            "  ..- attr(*, \"format.stata\")= chr \"%23.0g\"\n",
            " $ BP_diast: num [1:500] 47 48.5 48.5 49 50 50.5 50.5 52.5 53 53 ...\n",
            "  ..- attr(*, \"label\")= chr \"Omron diastolic blood pressure\"\n",
            "  ..- attr(*, \"format.stata\")= chr \"%23.0g\"\n",
            " $ t2d     : dbl+lbl [1:500] 0, 0, 0, 0, 0, 0, 0, 0, 0, 0, 0, 1, 0, 0, 0, 0, 0, 0, ...\n",
            "   ..@ label       : chr \"Do you currently have or have you ever had diabetes 2?\"\n",
            "   ..@ format.stata: chr \"%13.0g\"\n",
            "   ..@ labels      : Named num [1:2] 0 1\n",
            "   .. ..- attr(*, \"names\")= chr [1:2] \"No diabetes 2\" \"Diabetes 2\"\n",
            " $ smoker  : dbl+lbl [1:500] 0, 0, 0, 0, 0, 1, 0, 0, 0, 0, 1, 0, 0, 0, 1, 0, 0, 0, ...\n",
            "   ..@ label       : chr \"Are you currently a smoker?\"\n",
            "   ..@ format.stata: chr \"%10.0g\"\n",
            "   ..@ labels      : Named num [1:2] 0 1\n",
            "   .. ..- attr(*, \"names\")= chr [1:2] \"Non-smoker\" \"Smoker\"\n",
            " $ health  : num [1:500] 6 71 60 71 60 73 73 75 76 75 ...\n",
            "  ..- attr(*, \"label\")= chr \"Self reported health\"\n",
            "  ..- attr(*, \"format.stata\")= chr \"%9.0g\"\n"
          ]
        }
      ]
    },
    {
      "cell_type": "code",
      "source": [
        "# Check for missing values\n",
        "sum(is.na(data))\n"
      ],
      "metadata": {
        "colab": {
          "base_uri": "https://localhost:8080/",
          "height": 34
        },
        "id": "gHyg_MombKy7",
        "outputId": "ec2b784e-010d-4897-a738-82a4bde55279"
      },
      "execution_count": null,
      "outputs": [
        {
          "output_type": "display_data",
          "data": {
            "text/html": [
              "0"
            ],
            "text/markdown": "0",
            "text/latex": "0",
            "text/plain": [
              "[1] 0"
            ]
          },
          "metadata": {}
        }
      ]
    },
    {
      "cell_type": "code",
      "source": [
        "# Explore relationships between variables and 't2d' using visualizations and summary statistics\n",
        "\n",
        "# Boxplot for 'age'\n",
        "ggplot(data, aes(x = as.factor(t2d), y = age)) +\n",
        "  geom_boxplot() +\n",
        "  ggtitle(\"Boxplot of Age by Type II Diabetes Status\")\n",
        "\n",
        "# Boxplot for 'bmi'\n",
        "ggplot(data, aes(x = as.factor(t2d), y = bmi)) +\n",
        "  geom_boxplot() +\n",
        "  ggtitle(\"Boxplot of BMI by Type II Diabetes Status\")\n",
        "\n",
        "# Boxplot for 'health'\n",
        "ggplot(data, aes(x = as.factor(t2d), y = as.factor(health))) +\n",
        "  geom_boxplot() +\n",
        "  ggtitle(\"Boxplot of Health by Type II Diabetes Status\")\n",
        "\n",
        "# Boxplot for 'BP_diast'\n",
        "ggplot(data, aes(x = as.factor(t2d), y = as.factor(BP_diast))) +\n",
        "  geom_boxplot() +\n",
        "  ggtitle(\"Boxplot of Diastolic Blood Pressure by Type II Diabetes Status\")\n",
        "\n",
        "# Boxplot for 'smoker'\n",
        "ggplot(data, aes(x = as.factor(t2d), y = as.factor(smoker))) +\n",
        "  geom_boxplot() +\n",
        "  ggtitle(\"Boxplot of Smoking Status by Type II Diabetes Status\")\n"
      ],
      "metadata": {
        "colab": {
          "base_uri": "https://localhost:8080/",
          "height": 1000
        },
        "id": "aHozX53MbXS1",
        "outputId": "a6ce62ab-4403-4e3b-b90f-f85340f91a8b"
      },
      "execution_count": null,
      "outputs": [
        {
          "output_type": "display_data",
          "data": {
            "text/plain": [
              "plot without title"
            ],
            "image/png": "[encoded data removed]"
          },
          "metadata": {
            "image/png": {
              "width": 420,
              "height": 420
            }
          }
        },
        {
          "output_type": "display_data",
          "data": {
            "text/plain": [
              "plot without title"
            ],
            "image/png": "[encoded data removed]"
          },
          "metadata": {
            "image/png": {
              "width": 420,
              "height": 420
            }
          }
        },
        {
          "output_type": "display_data",
          "data": {
            "text/plain": [
              "plot without title"
            ],
            "image/png": "[encoded data removed]"
          },
          "metadata": {
            "image/png": {
              "width": 420,
              "height": 420
            }
          }
        },
        {
          "output_type": "display_data",
          "data": {
            "text/plain": [
              "plot without title"
            ],
            "image/png": "[encoded data removed]"
          },
          "metadata": {
            "image/png": {
              "width": 420,
              "height": 420
            }
          }
        },
        {
          "output_type": "display_data",
          "data": {
            "text/plain": [
              "plot without title"
            ],
            "image/png": "[encoded data removed]"
          },
          "metadata": {
            "image/png": {
              "width": 420,
              "height": 420
            }
          }
        }
      ]
    },
    {
      "cell_type": "code",
      "source": [
        "# Summary statistics for each variable in relation to 't2d'\n",
        "\n",
        "# 'sex'\n",
        "cat(\"Summary statistics for Sex by Type II Diabetes Status:\\n\")\n",
        "summary(data$sex)\n",
        "\n",
        "# 'age'\n",
        "cat(\"\\nSummary statistics for Age by Type II Diabetes Status:\\n\")\n",
        "summary(tapply(data$age, data$t2d, summary))\n",
        "\n",
        "# 'marstatc'\n",
        "cat(\"\\nSummary statistics for Marital Status by Type II Diabetes Status:\\n\")\n",
        "table(data$marstatc, data$t2d)\n",
        "\n",
        "# 'employ'\n",
        "cat(\"\\nSummary statistics for Employment Status by Type II Diabetes Status:\\n\")\n",
        "table(data$employ, data$t2d)\n",
        "\n",
        "# 'bmi'\n",
        "cat(\"\\nSummary statistics for BMI by Type II Diabetes Status:\\n\")\n",
        "summary(tapply(data$bmi, data$t2d, summary))\n",
        "\n",
        "# 'BP_diast'\n",
        "cat(\"\\nSummary statistics for Diastolic Blood Pressure by Type II Diabetes Status:\\n\")\n",
        "summary(tapply(data$BP_diast, data$t2d, summary))\n",
        "\n",
        "# 'smoker'\n",
        "cat(\"\\nSummary statistics for Smoking Status by Type II Diabetes Status:\\n\")\n",
        "table(data$smoker, data$t2d)\n",
        "\n",
        "# 'health'\n",
        "cat(\"\\nSummary statistics for Health by Type II Diabetes Status:\\n\")\n",
        "summary(tapply(data$health, data$t2d, summary))"
      ],
      "metadata": {
        "colab": {
          "base_uri": "https://localhost:8080/",
          "height": 766
        },
        "id": "n-yQC68UpNIn",
        "outputId": "80cd959e-2161-4ec3-b755-e3f0aec44be6"
      },
      "execution_count": null,
      "outputs": [
        {
          "output_type": "stream",
          "name": "stdout",
          "text": [
            "Summary statistics for Sex by Type II Diabetes Status:\n"
          ]
        },
        {
          "output_type": "display_data",
          "data": {
            "text/plain": [
              "   Min. 1st Qu.  Median    Mean 3rd Qu.    Max. \n",
              "   0.00    0.00    1.00    0.52    1.00    1.00 "
            ]
          },
          "metadata": {}
        },
        {
          "output_type": "stream",
          "name": "stdout",
          "text": [
            "\n",
            "Summary statistics for Age by Type II Diabetes Status:\n"
          ]
        },
        {
          "output_type": "display_data",
          "data": {
            "text/plain": [
              "  Length Class          Mode   \n",
              "0 6      summaryDefault numeric\n",
              "1 6      summaryDefault numeric"
            ]
          },
          "metadata": {}
        },
        {
          "output_type": "stream",
          "name": "stdout",
          "text": [
            "\n",
            "Summary statistics for Marital Status by Type II Diabetes Status:\n"
          ]
        },
        {
          "output_type": "display_data",
          "data": {
            "text/plain": [
              "   \n",
              "      0   1\n",
              "  0 207  15\n",
              "  1 264  14"
            ]
          },
          "metadata": {}
        },
        {
          "output_type": "stream",
          "name": "stdout",
          "text": [
            "\n",
            "Summary statistics for Employment Status by Type II Diabetes Status:\n"
          ]
        },
        {
          "output_type": "display_data",
          "data": {
            "text/plain": [
              "   \n",
              "      0   1\n",
              "  0 210  21\n",
              "  1 261   8"
            ]
          },
          "metadata": {}
        },
        {
          "output_type": "stream",
          "name": "stdout",
          "text": [
            "\n",
            "Summary statistics for BMI by Type II Diabetes Status:\n"
          ]
        },
        {
          "output_type": "display_data",
          "data": {
            "text/plain": [
              "  Length Class          Mode   \n",
              "0 6      summaryDefault numeric\n",
              "1 6      summaryDefault numeric"
            ]
          },
          "metadata": {}
        },
        {
          "output_type": "stream",
          "name": "stdout",
          "text": [
            "\n",
            "Summary statistics for Diastolic Blood Pressure by Type II Diabetes Status:\n"
          ]
        },
        {
          "output_type": "display_data",
          "data": {
            "text/plain": [
              "  Length Class          Mode   \n",
              "0 6      summaryDefault numeric\n",
              "1 6      summaryDefault numeric"
            ]
          },
          "metadata": {}
        },
        {
          "output_type": "stream",
          "name": "stdout",
          "text": [
            "\n",
            "Summary statistics for Smoking Status by Type II Diabetes Status:\n"
          ]
        },
        {
          "output_type": "display_data",
          "data": {
            "text/plain": [
              "   \n",
              "      0   1\n",
              "  0 391  23\n",
              "  1  80   6"
            ]
          },
          "metadata": {}
        },
        {
          "output_type": "stream",
          "name": "stdout",
          "text": [
            "\n",
            "Summary statistics for Health by Type II Diabetes Status:\n"
          ]
        },
        {
          "output_type": "display_data",
          "data": {
            "text/plain": [
              "  Length Class          Mode   \n",
              "0 6      summaryDefault numeric\n",
              "1 6      summaryDefault numeric"
            ]
          },
          "metadata": {}
        }
      ]
    },
    {
      "cell_type": "code",
      "source": [
        "# Variable Selection\n",
        "# Based on EDA, select relevant variables for the regression model\n",
        "selected_vars <- data %>%\n",
        "  select(age, bmi, smoker, health, sex, marstatc, employ, BP_diast, t2d)\n",
        "\n",
        "# Handle categorical variables\n",
        "selected_vars <- selected_vars %>%\n",
        "  mutate(sex = as.factor(sex),\n",
        "         marstatc = as.factor(marstatc),\n",
        "         employ = as.factor(employ))\n"
      ],
      "metadata": {
        "id": "qH28IThvbprr"
      },
      "execution_count": null,
      "outputs": []
    },
    {
      "cell_type": "code",
      "source": [
        "# Model Building\n",
        "# Simple Linear Regression\n",
        "model_1 <- glm(t2d ~ age, data = data, family = \"binomial\")\n",
        "\n",
        "# Multiple Regression\n",
        "model_2 <- glm(t2d ~ age + bmi + smoker + health, data = data, family = \"binomial\")\n",
        "\n",
        "# Final Model\n",
        "final_model <- glm(t2d ~ age + bmi + smoker + health + sex + marstatc + employ + BP_diast,\n",
        "                   data = data, family = \"binomial\")\n"
      ],
      "metadata": {
        "id": "jawdgprXb03N"
      },
      "execution_count": null,
      "outputs": []
    },
    {
      "cell_type": "code",
      "source": [
        "# Model Evaluation\n",
        "# Check model summary\n",
        "summary(final_model)\n"
      ],
      "metadata": {
        "colab": {
          "base_uri": "https://localhost:8080/",
          "height": 492
        },
        "id": "aJTBWrNZcHRh",
        "outputId": "c5ac7a70-fb65-4b37-be7e-5353aa2a63fd"
      },
      "execution_count": null,
      "outputs": [
        {
          "output_type": "display_data",
          "data": {
            "text/plain": [
              "\n",
              "Call:\n",
              "glm(formula = t2d ~ age + bmi + smoker + health + sex + marstatc + \n",
              "    employ + BP_diast, family = \"binomial\", data = data)\n",
              "\n",
              "Coefficients:\n",
              "            Estimate Std. Error z value Pr(>|z|)    \n",
              "(Intercept) -5.68825    2.55951  -2.222 0.026256 *  \n",
              "age          0.07898    0.02104   3.754 0.000174 ***\n",
              "bmi          0.16981    0.03970   4.278 1.89e-05 ***\n",
              "smoker       0.92354    0.62568   1.476 0.139931    \n",
              "health      -0.12123    0.02445  -4.959 7.10e-07 ***\n",
              "sex         -0.64217    0.48020  -1.337 0.181122    \n",
              "marstatc    -0.11236    0.46069  -0.244 0.807319    \n",
              "employ       0.21561    0.62543   0.345 0.730296    \n",
              "BP_diast     0.02420    0.01819   1.330 0.183425    \n",
              "---\n",
              "Signif. codes:  0 ‘***’ 0.001 ‘**’ 0.01 ‘*’ 0.05 ‘.’ 0.1 ‘ ’ 1\n",
              "\n",
              "(Dispersion parameter for binomial family taken to be 1)\n",
              "\n",
              "    Null deviance: 221.43  on 499  degrees of freedom\n",
              "Residual deviance: 143.65  on 491  degrees of freedom\n",
              "AIC: 161.65\n",
              "\n",
              "Number of Fisher Scoring iterations: 7\n"
            ]
          },
          "metadata": {}
        }
      ]
    },
    {
      "cell_type": "code",
      "source": [
        "# Cross-validation with AUC as the metric\n",
        "set.seed(123)\n",
        "cv_model <- train(t2d ~ age + bmi + smoker + health + sex + marstatc + employ + BP_diast,\n",
        "                  data = data,\n",
        "                  method = \"glmnet\",\n",
        "                  trControl = trainControl(method = \"cv\",\n",
        "                                           classProbs = TRUE,\n",
        "                                           summaryFunction = twoClassSummary,\n",
        "                                           selectionFunction = \"best\",\n",
        "                                           allowParallel = TRUE,\n",
        "                                           verboseIter = TRUE,\n",
        "                                           metric = \"ROC\"))\n",
        "cv_model$results\n"
      ],
      "metadata": {
        "colab": {
          "base_uri": "https://localhost:8080/",
          "height": 346
        },
        "id": "EHGrZJjHcPdj",
        "outputId": "f37ecf1a-0f1f-40b6-b353-074a26efc3b0"
      },
      "execution_count": null,
      "outputs": [
        {
          "output_type": "error",
          "ename": "ERROR",
          "evalue": "Error in trainControl(method = \"cv\", classProbs = TRUE, summaryFunction = twoClassSummary, : unused argument (metric = \"ROC\")\n",
          "traceback": [
            "Error in trainControl(method = \"cv\", classProbs = TRUE, summaryFunction = twoClassSummary, : unused argument (metric = \"ROC\")\nTraceback:\n",
            "1. train(t2d ~ age + bmi + smoker + health + sex + marstatc + employ + \n .     BP_diast, data = data, method = \"glmnet\", trControl = trainControl(method = \"cv\", \n .     classProbs = TRUE, summaryFunction = twoClassSummary, selectionFunction = \"best\", \n .     allowParallel = TRUE, verboseIter = TRUE, metric = \"ROC\"))",
            "2. train.formula(t2d ~ age + bmi + smoker + health + sex + marstatc + \n .     employ + BP_diast, data = data, method = \"glmnet\", trControl = trainControl(method = \"cv\", \n .     classProbs = TRUE, summaryFunction = twoClassSummary, selectionFunction = \"best\", \n .     allowParallel = TRUE, verboseIter = TRUE, metric = \"ROC\"))",
            "3. train(x, y, weights = w, ...)",
            "4. train.default(x, y, weights = w, ...)"
          ]
        }
      ]
    },
    {
      "cell_type": "code",
      "source": [
        "# Predictions\n",
        "predictions <- predict(final_model, newdata = selected_vars, type = \"response\")\n"
      ],
      "metadata": {
        "id": "csA7NIl2cS94"
      },
      "execution_count": null,
      "outputs": []
    },
    {
      "cell_type": "code",
      "source": [
        "# Convert predictions to a factor with levels\n",
        "predictions <- as.factor(predictions)\n",
        "\n",
        "# Ensure 't2d' in selected_vars is a factor with the same levels as predictions\n",
        "selected_vars$t2d <- factor(selected_vars$t2d, levels = levels(predictions))\n"
      ],
      "metadata": {
        "id": "aRs7zPQisiiB"
      },
      "execution_count": null,
      "outputs": []
    },
    {
      "cell_type": "code",
      "source": [
        "# Assess model performance\n",
        "confusion_matrix <- confusionMatrix(predictions, selected_vars$t2d)\n",
        "confusion_matrix\n"
      ],
      "metadata": {
        "id": "Mz1L7gS5cVbf"
      },
      "execution_count": null,
      "outputs": []
    },
    {
      "cell_type": "code",
      "source": [
        "# Extract coefficients\n",
        "coefficients <- coef(final_model)\n"
      ],
      "metadata": {
        "id": "lt9ji0UycYqm"
      },
      "execution_count": null,
      "outputs": []
    },
    {
      "cell_type": "code",
      "source": [
        "# Visualize coefficients\n",
        "coef_plot <- barplot(coefficients, col = ifelse(coefficients > 0, \"blue\", \"red\"),\n",
        "                    main = \"Coefficients of the Final Model\", ylab = \"Coefficient Value\")\n",
        "legend(\"topright\", legend = c(\"Negative\", \"Positive\"), fill = c(\"red\", \"blue\"))\n"
      ],
      "metadata": {
        "colab": {
          "base_uri": "https://localhost:8080/",
          "height": 437
        },
        "id": "enQajLIqcbJv",
        "outputId": "07714e1b-a8e6-4b10-9068-74d31ddec5de"
      },
      "execution_count": null,
      "outputs": [
        {
          "output_type": "display_data",
          "data": {
            "text/plain": [
              "Plot with title “Coefficients of the Final Model”"
            ],
            "image/png": "[encoded data removed]"
          },
          "metadata": {
            "image/png": {
              "width": 420,
              "height": 420
            }
          }
        }
      ]
    },
    {
      "cell_type": "code",
      "source": [
        "# Save the R notebook output\n",
        "sink(\"Regression_Model_Report.txt\")\n",
        "cat(\"# Regression Model Report\\n\\n\")\n"
      ],
      "metadata": {
        "colab": {
          "base_uri": "https://localhost:8080/"
        },
        "id": "N7ZcMzMmceY4",
        "outputId": "90396ee6-0f16-4d73-ad59-c2f087d3ed24"
      },
      "execution_count": null,
      "outputs": [
        {
          "output_type": "stream",
          "name": "stdout",
          "text": [
            "# Regression Model Report\n",
            "\n"
          ]
        }
      ]
    },
    {
      "cell_type": "code",
      "source": [
        "# Include your analysis, interpretation, and findings here\n",
        "sink()\n"
      ],
      "metadata": {
        "id": "E9OeDd0zcqP-"
      },
      "execution_count": null,
      "outputs": []
    }
  ]
}