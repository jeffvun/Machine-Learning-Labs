{
 "cells": [
  {
   "cell_type": "code",
   "execution_count": null,
   "metadata": {
    "id": "85CC2pwH7v59",
    "is_executing": true,
    "ExecuteTime": {
     "start_time": "2023-09-09T00:28:59.653329456Z"
    }
   },
   "outputs": [],
   "source": [
    "import torch\n",
    "import torch.nn as nn\n",
    "import torch.optim as optim\n",
    "\n",
    "import torchvision\n",
    "import torchvision.transforms as transforms\n",
    "\n",
    "import matplotlib.pyplot as plt\n",
    "\n",
    "from torch.utils.data import DataLoader, random_split\n",
    "from torchvision.datasets import ImageFolder\n"
   ]
  },
  {
   "cell_type": "code",
   "execution_count": null,
   "metadata": {
    "id": "N82aQZLkoS3q",
    "is_executing": true
   },
   "outputs": [],
   "source": [
    "# Choosing gpu or cpu\n",
    "\n",
    "device = torch.device('cuda' if torch.cuda.is_available() else 'cpu')"
   ]
  },
  {
   "cell_type": "markdown",
   "metadata": {
    "id": "Cku8z4NV-BK_"
   },
   "source": [
    "### **Data Preprocessing**"
   ]
  },
  {
   "cell_type": "code",
   "execution_count": null,
   "metadata": {
    "id": "kDqf_FOM9_2h",
    "is_executing": true
   },
   "outputs": [],
   "source": [
    "# Defining the path to train and test data folders\n",
    "train_folder = '../Data/train'\n",
    "test_folder = '../Data/test'\n"
   ]
  },
  {
   "cell_type": "code",
   "execution_count": null,
   "metadata": {
    "id": "HfNxGNko-ei3",
    "is_executing": true
   },
   "outputs": [],
   "source": [
    "# Image transformations for data augmentation and normalization\n",
    "transform = transforms.Compose([\n",
    "    transforms.RandomResizedCrop(200),\n",
    "    transforms.RandomHorizontalFlip(),\n",
    "    transforms.GaussianBlur((5,9),(0.1,5)),\n",
    "    transforms.ToTensor(),\n",
    "    transforms.Normalize((0.5, 0.5, 0.5), (0.5, 0.5, 0.5))\n",
    "])\n"
   ]
  },
  {
   "cell_type": "code",
   "execution_count": null,
   "metadata": {
    "colab": {
     "base_uri": "https://localhost:8080/"
    },
    "id": "G-spyVFQ-hd-",
    "outputId": "56e80491-9a77-49ad-a0e9-ec038b1022d7",
    "is_executing": true
   },
   "outputs": [],
   "source": [
    "# Load the train and test datasets\n",
    "train_dataset = ImageFolder(train_folder, transform=transform)\n",
    "test_dataset = ImageFolder(test_folder, transform=transform)\n",
    "\n",
    "print(f\"Images in training data : {len(train_dataset)}\")\n",
    "print(f\"Images in test data : {len(test_dataset)}\")"
   ]
  },
  {
   "cell_type": "markdown",
   "metadata": {
    "id": "lyR_92D-QXnA"
   },
   "source": [
    "### **Preparing Dataset**"
   ]
  },
  {
   "cell_type": "code",
   "execution_count": null,
   "metadata": {
    "colab": {
     "base_uri": "https://localhost:8080/"
    },
    "id": "qkOKO4zQPgTi",
    "outputId": "383f3e8a-b29f-445e-9eaa-de1111019b8a",
    "is_executing": true
   },
   "outputs": [],
   "source": [
    "# Checking the size/structure of tensors we have created\n",
    "\n",
    "img, label = train_dataset[0]\n",
    "print(img.shape, label)"
   ]
  },
  {
   "cell_type": "code",
   "execution_count": null,
   "metadata": {
    "colab": {
     "base_uri": "https://localhost:8080/"
    },
    "id": "Z_RoaIPeQkI4",
    "outputId": "57203ba7-9eb8-4af7-c25b-9bd4b9acec7f",
    "is_executing": true
   },
   "outputs": [],
   "source": [
    "# Checking for the number of classes\n",
    "\n",
    "print(\"The following classes are there : \\n\",train_dataset.classes)"
   ]
  },
  {
   "cell_type": "code",
   "execution_count": null,
   "metadata": {
    "id": "JKmpeJEH-lRf",
    "is_executing": true
   },
   "outputs": [],
   "source": [
    "# Spliting the train dataset into train and validation sets\n",
    "\n",
    "train_size = int(0.8 * len(train_dataset))\n",
    "val_size = len(train_dataset) - train_size\n",
    "train_dataset, val_dataset = random_split(train_dataset, [train_size, val_size])\n"
   ]
  },
  {
   "cell_type": "code",
   "execution_count": null,
   "metadata": {
    "id": "UkbyMTxO-nmT",
    "is_executing": true
   },
   "outputs": [],
   "source": [
    "# Create data loaders for train, validation, and test datasets\n",
    "\n",
    "batch_size = 128\n",
    "\n",
    "train_loader = DataLoader(train_dataset, batch_size=batch_size, shuffle=True)\n",
    "val_loader = DataLoader(val_dataset, batch_size=batch_size, shuffle=False)\n",
    "test_loader = DataLoader(test_dataset, batch_size=batch_size, shuffle=False)"
   ]
  },
  {
   "cell_type": "markdown",
   "metadata": {
    "id": "ja1bL5EY-rGx"
   },
   "source": [
    "### **Model Building**"
   ]
  },
  {
   "cell_type": "markdown",
   "metadata": {
    "id": "fCJY_fko-yco"
   },
   "source": [
    "Defining the CNN Architecture: 4 convolutional layers and an outer layer.\n",
    "\n",
    "\n",
    "1.   Convolutional Layer Structure: Is a Convolutional Layer (Input image, Filter) with a ReLU activaton function and a MaxPooling Layer\n",
    "2.   Fully Connected Layer: Has a Linear Activation function that takes on an Input vector of size N (size of the resized images) and gives an output of size K = 2 (2 classes : tomatoes and apples)\n",
    "\n"
   ]
  },
  {
   "cell_type": "code",
   "execution_count": null,
   "metadata": {
    "id": "QE3Hsq4B82A2",
    "is_executing": true
   },
   "outputs": [],
   "source": [
    "# Step 2: Define the CNN model architecture\n",
    "\n",
    "class CNNModel(nn.Module):\n",
    "    def __init__(self):\n",
    "        super(CNNModel, self).__init__()\n",
    "        self.conv_layers = nn.Sequential(\n",
    "            nn.Conv2d(3, 32, kernel_size=3, stride=1, padding=1),\n",
    "            nn.ReLU(),\n",
    "            nn.MaxPool2d(kernel_size=2, stride=2),\n",
    "            nn.Conv2d(32, 64, kernel_size=3, stride=1, padding=1),\n",
    "            nn.ReLU(),\n",
    "            nn.MaxPool2d(kernel_size=2, stride=2),\n",
    "            nn.Conv2d(64, 128, kernel_size=3, stride=1, padding=1),\n",
    "            nn.ReLU(),\n",
    "            nn.MaxPool2d(kernel_size=2, stride=2),\n",
    "            nn.Conv2d(128, 256, kernel_size=3, stride=1, padding=1),\n",
    "            nn.ReLU(),\n",
    "            nn.MaxPool2d(kernel_size=2, stride=2),\n",
    "            nn.Conv2d(256, 512, kernel_size=3, stride=1, padding=1),\n",
    "            nn.ReLU(),\n",
    "            nn.MaxPool2d(kernel_size=2, stride=2),\n",
    "\n",
    "        )\n",
    "        self.fc_layer = nn.Sequential(\n",
    "            nn.Flatten(),\n",
    "            nn.Linear(512 * 6 * 6, 512), #size of input has to match nbr of colums in matrix 1 (batchsize, inputsize)\n",
    "            nn.ReLU(),\n",
    "            nn.Linear(512,64),\n",
    "            nn.ReLU(),\n",
    "            nn.Linear(64, 2),\n",
    "        )\n",
    "\n",
    "    def forward(self, x):\n",
    "        x = self.conv_layers(x)\n",
    "        x = x.view(x.size(0), -1)\n",
    "        x = self.fc_layer(x)\n",
    "        return x\n",
    "\n",
    "    def training_step(self, batch):\n",
    "        images, labels = batch[0].to(device), batch[1].to(device)\n",
    "        out = self(images) # Generate predictions\n",
    "        loss = nn.functional.cross_entropy(out, labels) # Calculate loss\n",
    "        return loss\n",
    "\n",
    "    def validation_step(self, batch):\n",
    "        images, labels = batch[0].to(device), batch[1].to(device)\n",
    "        out = self(images) # Generate predictions\n",
    "        loss = nn.functional.cross_entropy(out, labels) # Calculate loss\n",
    "        acc = accuracy(out, labels) # Calculate accuracy\n",
    "        return {'val_loss': loss.detach(), 'val_acc': acc}\n",
    "\n",
    "    def validation_epoch_end(self, outputs):\n",
    "        batch_losses = [x['val_loss'] for x in outputs]\n",
    "        epoch_loss = torch.stack(batch_losses).mean() # Combine losses\n",
    "        batch_accs = [x['val_acc'] for x in outputs]\n",
    "        epoch_acc = torch.stack(batch_accs).mean() # Combine accuracies\n",
    "        return {'val_loss': epoch_loss.item(), 'val_acc': epoch_acc.item()}\n",
    "\n",
    "    def epoch_end(self, epoch, result):\n",
    "        print(\"Epoch [{}], train_loss: {:.4f}, val_loss: {:.4f}, val_acc: {:.4f}\".format(\n",
    "            epoch, result['train_loss'], result['val_loss'], result['val_acc']))"
   ]
  },
  {
   "cell_type": "markdown",
   "metadata": {
    "id": "kxOZ_npwH0Bz"
   },
   "source": [
    "### **Hyper-parameter tuning**"
   ]
  },
  {
   "cell_type": "code",
   "execution_count": null,
   "metadata": {
    "id": "nFqUj84AV4HZ",
    "is_executing": true
   },
   "outputs": [],
   "source": [
    "# Defining the accuracy, evaluation and fit methods\n",
    "\n",
    "def accuracy(outputs, labels):\n",
    "  _, preds = torch.max(outputs, dim=1)\n",
    "  return torch.tensor(torch.sum(preds == labels).item() / len(preds))\n",
    "\n",
    "@torch.no_grad()\n",
    "def evaluate(model, val_loader):\n",
    "  model.eval()\n",
    "  outputs = [model.validation_step(batch) for batch in val_loader]\n",
    "  return model.validation_epoch_end(outputs)\n",
    "\n",
    "def fit(epochs, lr, model, train_loader, val_loader, opt_func = torch.optim.SGD):\n",
    "    history = []\n",
    "    optimizer = opt_func(model.parameters(),lr)\n",
    "    for epoch in range(epochs):\n",
    "        model.train()\n",
    "        train_losses = []\n",
    "        for batch in train_loader:\n",
    "            loss = model.training_step(batch)\n",
    "            train_losses.append(loss)\n",
    "            loss.backward()\n",
    "            optimizer.step()\n",
    "            optimizer.zero_grad()\n",
    "\n",
    "        result = evaluate(model, val_loader)\n",
    "        result['train_loss'] = torch.stack(train_losses).mean().item()\n",
    "        model.epoch_end(epoch, result)\n",
    "        history.append(result)\n",
    "\n",
    "    return history"
   ]
  },
  {
   "cell_type": "code",
   "execution_count": null,
   "metadata": {
    "colab": {
     "base_uri": "https://localhost:8080/"
    },
    "id": "nLWxRQJ-9zJu",
    "outputId": "2c6a0d72-8fd2-47de-a11c-97322f8b1b0b",
    "is_executing": true
   },
   "outputs": [],
   "source": [
    "# model summary\n",
    "\n",
    "model = CNNModel().to(device)\n",
    "# criterion = nn.CrossEntropyLoss()\n",
    "model"
   ]
  },
  {
   "cell_type": "markdown",
   "metadata": {
    "id": "8snHXGwDIMO4"
   },
   "source": [
    "### **Model Training**"
   ]
  },
  {
   "cell_type": "code",
   "execution_count": null,
   "metadata": {
    "colab": {
     "base_uri": "https://localhost:8080/"
    },
    "id": "qfHplWAj92kG",
    "outputId": "23ab8662-957c-4d92-8ff9-678cfb95dbef",
    "is_executing": true
   },
   "outputs": [],
   "source": [
    "# Train the model\n",
    "\n",
    "num_epochs = 50\n",
    "lr =0.001\n",
    "opt_func = optim.Adam\n",
    "\n",
    "history = fit(num_epochs, lr, model, train_loader, val_loader, opt_func)\n"
   ]
  },
  {
   "cell_type": "markdown",
   "metadata": {
    "id": "urEk2wesZl1F"
   },
   "source": [
    "### **Model Evaluation**"
   ]
  },
  {
   "cell_type": "code",
   "execution_count": null,
   "metadata": {
    "colab": {
     "base_uri": "https://localhost:8080/",
     "height": 490
    },
    "id": "82IKVnaw95E2",
    "outputId": "6bd57f17-d14d-4be2-88f1-ef63e7d057ee",
    "is_executing": true
   },
   "outputs": [],
   "source": [
    "def plot_accuracies(history):\n",
    "    print(\"Plot the history of accuracies\")\n",
    "    accuracies = [x['val_acc'] for x in history]\n",
    "    plt.plot(accuracies, '-x')\n",
    "    plt.xlabel('epoch')\n",
    "    plt.ylabel('accuracy')\n",
    "    plt.title('Accuracy vs. No. of epochs');\n",
    "\n",
    "\n",
    "plot_accuracies(history)"
   ]
  },
  {
   "cell_type": "code",
   "execution_count": null,
   "metadata": {
    "colab": {
     "base_uri": "https://localhost:8080/",
     "height": 490
    },
    "id": "FIUQ5f0p1mMx",
    "outputId": "4670c223-fc9e-4696-e542-ca3583563708",
    "is_executing": true
   },
   "outputs": [],
   "source": [
    "def plot_losses(history):\n",
    "    print(\"Plot the losses in each epoch\")\n",
    "    train_losses = [x.get('train_loss') for x in history]\n",
    "    val_losses = [x['val_loss'] for x in history]\n",
    "    plt.plot(train_losses, '-bx')\n",
    "    plt.plot(val_losses, '-rx')\n",
    "    plt.xlabel('epoch')\n",
    "    plt.ylabel('loss')\n",
    "    plt.legend(['Training', 'Validation'])\n",
    "    plt.title('Loss vs. No. of epochs');\n",
    "\n",
    "plot_losses(history)\n"
   ]
  },
  {
   "cell_type": "code",
   "execution_count": null,
   "metadata": {
    "colab": {
     "base_uri": "https://localhost:8080/"
    },
    "id": "1eGs45DYDhWo",
    "outputId": "75004a7d-1713-4042-fdb9-01d376063a5c",
    "is_executing": true
   },
   "outputs": [],
   "source": [
    "# Evaluate model on test data\n",
    "\n",
    "model.eval()\n",
    "correct, total = 0, 0\n",
    "with torch.no_grad():\n",
    "    for images, labels in test_loader:\n",
    "        images, labels = images.to(device), labels.to(device)\n",
    "        outputs = model(images)\n",
    "        _, predicted = torch.max(outputs.data, 1)\n",
    "        total += labels.size(0)\n",
    "        correct += (predicted == labels).sum().item()\n",
    "\n",
    "print(f\"Test Accuracy: {(100 * correct / total):.2f}%\")\n",
    "\n"
   ]
  }
 ],
 "metadata": {
  "accelerator": "GPU",
  "colab": {
   "gpuType": "T4",
   "provenance": []
  },
  "kernelspec": {
   "display_name": "Python 3 (ipykernel)",
   "language": "python",
   "name": "python3"
  },
  "language_info": {
   "name": "python"
  }
 },
 "nbformat": 4,
 "nbformat_minor": 1
}
