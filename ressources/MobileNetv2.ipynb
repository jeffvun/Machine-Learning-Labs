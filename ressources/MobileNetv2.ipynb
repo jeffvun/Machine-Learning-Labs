{
 "cells": [
  {
   "cell_type": "code",
   "execution_count": 1,
   "id": "36c01d94",
   "metadata": {
    "scrolled": true
   },
   "outputs": [
    {
     "name": "stdout",
     "output_type": "stream",
     "text": [
      "Defaulting to user installation because normal site-packages is not writeable\n",
      "Requirement already satisfied: tensorflow in /home/joseph-vunanga/.local/lib/python3.10/site-packages (2.13.0)\n",
      "Requirement already satisfied: setuptools in /usr/lib/python3/dist-packages (from tensorflow) (59.6.0)\n",
      "Requirement already satisfied: numpy<=1.24.3,>=1.22 in /usr/local/lib/python3.10/dist-packages (from tensorflow) (1.24.2)\n",
      "Requirement already satisfied: google-pasta>=0.1.1 in /home/joseph-vunanga/.local/lib/python3.10/site-packages (from tensorflow) (0.2.0)\n",
      "Requirement already satisfied: protobuf!=4.21.0,!=4.21.1,!=4.21.2,!=4.21.3,!=4.21.4,!=4.21.5,<5.0.0dev,>=3.20.3 in /home/joseph-vunanga/.local/lib/python3.10/site-packages (from tensorflow) (4.24.2)\n",
      "Requirement already satisfied: grpcio<2.0,>=1.24.3 in /home/joseph-vunanga/.local/lib/python3.10/site-packages (from tensorflow) (1.57.0)\n",
      "Requirement already satisfied: six>=1.12.0 in /usr/lib/python3/dist-packages (from tensorflow) (1.16.0)\n",
      "Requirement already satisfied: gast<=0.4.0,>=0.2.1 in /home/joseph-vunanga/.local/lib/python3.10/site-packages (from tensorflow) (0.4.0)\n",
      "Requirement already satisfied: flatbuffers>=23.1.21 in /home/joseph-vunanga/.local/lib/python3.10/site-packages (from tensorflow) (23.5.26)\n",
      "Requirement already satisfied: libclang>=13.0.0 in /home/joseph-vunanga/.local/lib/python3.10/site-packages (from tensorflow) (16.0.6)\n",
      "Requirement already satisfied: tensorflow-estimator<2.14,>=2.13.0 in /home/joseph-vunanga/.local/lib/python3.10/site-packages (from tensorflow) (2.13.0)\n",
      "Requirement already satisfied: h5py>=2.9.0 in /home/joseph-vunanga/.local/lib/python3.10/site-packages (from tensorflow) (3.9.0)\n",
      "Requirement already satisfied: opt-einsum>=2.3.2 in /home/joseph-vunanga/.local/lib/python3.10/site-packages (from tensorflow) (3.3.0)\n",
      "Requirement already satisfied: tensorboard<2.14,>=2.13 in /home/joseph-vunanga/.local/lib/python3.10/site-packages (from tensorflow) (2.13.0)\n",
      "Requirement already satisfied: packaging in /usr/local/lib/python3.10/dist-packages (from tensorflow) (23.1)\n",
      "Requirement already satisfied: wrapt>=1.11.0 in /home/joseph-vunanga/.local/lib/python3.10/site-packages (from tensorflow) (1.15.0)\n",
      "Requirement already satisfied: absl-py>=1.0.0 in /home/joseph-vunanga/.local/lib/python3.10/site-packages (from tensorflow) (1.4.0)\n",
      "Requirement already satisfied: typing-extensions<4.6.0,>=3.6.6 in /home/joseph-vunanga/.local/lib/python3.10/site-packages (from tensorflow) (4.5.0)\n",
      "Requirement already satisfied: tensorflow-io-gcs-filesystem>=0.23.1 in /home/joseph-vunanga/.local/lib/python3.10/site-packages (from tensorflow) (0.33.0)\n",
      "Requirement already satisfied: keras<2.14,>=2.13.1 in /home/joseph-vunanga/.local/lib/python3.10/site-packages (from tensorflow) (2.13.1)\n",
      "Requirement already satisfied: termcolor>=1.1.0 in /home/joseph-vunanga/.local/lib/python3.10/site-packages (from tensorflow) (2.3.0)\n",
      "Requirement already satisfied: astunparse>=1.6.0 in /home/joseph-vunanga/.local/lib/python3.10/site-packages (from tensorflow) (1.6.3)\n",
      "Requirement already satisfied: wheel<1.0,>=0.23.0 in /usr/lib/python3/dist-packages (from astunparse>=1.6.0->tensorflow) (0.37.1)\n",
      "Requirement already satisfied: google-auth-oauthlib<1.1,>=0.5 in /home/joseph-vunanga/.local/lib/python3.10/site-packages (from tensorboard<2.14,>=2.13->tensorflow) (1.0.0)\n",
      "Requirement already satisfied: requests<3,>=2.21.0 in /usr/lib/python3/dist-packages (from tensorboard<2.14,>=2.13->tensorflow) (2.25.1)\n",
      "Requirement already satisfied: tensorboard-data-server<0.8.0,>=0.7.0 in /home/joseph-vunanga/.local/lib/python3.10/site-packages (from tensorboard<2.14,>=2.13->tensorflow) (0.7.1)\n",
      "Requirement already satisfied: werkzeug>=1.0.1 in /home/joseph-vunanga/.local/lib/python3.10/site-packages (from tensorboard<2.14,>=2.13->tensorflow) (2.3.7)\n",
      "Requirement already satisfied: markdown>=2.6.8 in /home/joseph-vunanga/.local/lib/python3.10/site-packages (from tensorboard<2.14,>=2.13->tensorflow) (3.4.4)\n",
      "Requirement already satisfied: google-auth<3,>=1.6.3 in /home/joseph-vunanga/.local/lib/python3.10/site-packages (from tensorboard<2.14,>=2.13->tensorflow) (2.22.0)\n",
      "Requirement already satisfied: cachetools<6.0,>=2.0.0 in /usr/lib/python3/dist-packages (from google-auth<3,>=1.6.3->tensorboard<2.14,>=2.13->tensorflow) (5.0.0)\n",
      "Requirement already satisfied: rsa<5,>=3.1.4 in /usr/lib/python3/dist-packages (from google-auth<3,>=1.6.3->tensorboard<2.14,>=2.13->tensorflow) (4.8)\n",
      "Requirement already satisfied: pyasn1-modules>=0.2.1 in /usr/lib/python3/dist-packages (from google-auth<3,>=1.6.3->tensorboard<2.14,>=2.13->tensorflow) (0.2.1)\n",
      "Requirement already satisfied: urllib3<2.0 in /usr/lib/python3/dist-packages (from google-auth<3,>=1.6.3->tensorboard<2.14,>=2.13->tensorflow) (1.26.5)\n",
      "Requirement already satisfied: requests-oauthlib>=0.7.0 in /home/joseph-vunanga/.local/lib/python3.10/site-packages (from google-auth-oauthlib<1.1,>=0.5->tensorboard<2.14,>=2.13->tensorflow) (1.3.1)\n",
      "Requirement already satisfied: MarkupSafe>=2.1.1 in /home/joseph-vunanga/.local/lib/python3.10/site-packages (from werkzeug>=1.0.1->tensorboard<2.14,>=2.13->tensorflow) (2.1.3)\n",
      "Requirement already satisfied: oauthlib>=3.0.0 in /usr/lib/python3/dist-packages (from requests-oauthlib>=0.7.0->google-auth-oauthlib<1.1,>=0.5->tensorboard<2.14,>=2.13->tensorflow) (3.2.0)\n"
     ]
    }
   ],
   "source": [
    "!pip3 install tensorflow --upgrade"
   ]
  },
  {
   "cell_type": "code",
   "execution_count": 2,
   "id": "a65dc024",
   "metadata": {},
   "outputs": [
    {
     "name": "stdout",
     "output_type": "stream",
     "text": [
      "Defaulting to user installation because normal site-packages is not writeable\n",
      "Requirement already satisfied: tensorflow_hub in /home/joseph-vunanga/.local/lib/python3.10/site-packages (0.14.0)\n",
      "Requirement already satisfied: protobuf>=3.19.6 in /home/joseph-vunanga/.local/lib/python3.10/site-packages (from tensorflow_hub) (4.24.2)\n",
      "Requirement already satisfied: numpy>=1.12.0 in /usr/local/lib/python3.10/dist-packages (from tensorflow_hub) (1.24.2)\n"
     ]
    }
   ],
   "source": [
    "!pip3 install tensorflow_hub --upgrade"
   ]
  },
  {
   "cell_type": "code",
   "execution_count": null,
   "id": "78b5e69e",
   "metadata": {},
   "outputs": [
    {
     "name": "stdout",
     "output_type": "stream",
     "text": [
      "Defaulting to user installation because normal site-packages is not writeable\n",
      "Collecting tensorrt\n",
      "  Downloading tensorrt-8.6.1.post1.tar.gz (18 kB)\n",
      "  Preparing metadata (setup.py) ... \u001b[?25ldone\n",
      "\u001b[?25hBuilding wheels for collected packages: tensorrt\n",
      "  Building wheel for tensorrt (setup.py) ... \u001b[?25l\\"
     ]
    }
   ],
   "source": [
    "!pip3 install tensorrt"
   ]
  },
  {
   "cell_type": "code",
   "execution_count": 3,
   "id": "2f5b031a",
   "metadata": {},
   "outputs": [
    {
     "name": "stderr",
     "output_type": "stream",
     "text": [
      "2023-09-07 22:09:11.867376: I tensorflow/core/util/port.cc:110] oneDNN custom operations are on. You may see slightly different numerical results due to floating-point round-off errors from different computation orders. To turn them off, set the environment variable `TF_ENABLE_ONEDNN_OPTS=0`.\n",
      "2023-09-07 22:09:11.877087: I tensorflow/tsl/cuda/cudart_stub.cc:28] Could not find cuda drivers on your machine, GPU will not be used.\n",
      "2023-09-07 22:09:11.981660: I tensorflow/tsl/cuda/cudart_stub.cc:28] Could not find cuda drivers on your machine, GPU will not be used.\n",
      "2023-09-07 22:09:11.982718: I tensorflow/core/platform/cpu_feature_guard.cc:182] This TensorFlow binary is optimized to use available CPU instructions in performance-critical operations.\n",
      "To enable the following instructions: AVX2 AVX512F AVX512_VNNI FMA, in other operations, rebuild TensorFlow with the appropriate compiler flags.\n",
      "2023-09-07 22:09:12.749291: W tensorflow/compiler/tf2tensorrt/utils/py_utils.cc:38] TF-TRT Warning: Could not find TensorRT\n"
     ]
    }
   ],
   "source": [
    "import numpy as np\n",
    "import matplotlib.pylab as plt\n",
    "\n",
    "import tensorflow as tf\n",
    "import tensorflow_hub as hub\n",
    "from tensorflow import keras\n"
   ]
  },
  {
   "cell_type": "code",
   "execution_count": null,
   "id": "be11af8f",
   "metadata": {},
   "outputs": [],
   "source": [
    "IMAGE_SHAPE = (224, 224)\n",
    "image_generator = tf.keras.preprocessing.image.ImageDataGenerator(rescale=1/255)\n"
   ]
  },
  {
   "cell_type": "code",
   "execution_count": null,
   "id": "28401a65",
   "metadata": {},
   "outputs": [],
   "source": [
    "training_data='train'\n",
    "training_image_data  = image_generator.flow_from_directory(training_data,target_size=IMAGE_SHAPE)\n"
   ]
  },
  {
   "cell_type": "code",
   "execution_count": null,
   "id": "f8d3626f",
   "metadata": {},
   "outputs": [],
   "source": [
    "training_image_data[1][1].shape\n"
   ]
  },
  {
   "cell_type": "code",
   "execution_count": null,
   "id": "d2727887",
   "metadata": {},
   "outputs": [],
   "source": [
    "validation_data='test'\n",
    "validation_image_data  = image_generator.flow_from_directory(validation_data,target_size=IMAGE_SHAPE)\n"
   ]
  },
  {
   "cell_type": "code",
   "execution_count": null,
   "id": "721d77c7",
   "metadata": {},
   "outputs": [],
   "source": [
    "class_names = sorted(training_image_data.class_indices.items(), key=lambda pair:pair[1])\n",
    "class_names = np.array([key.title() for key, value in class_names])\n",
    "class_names\n"
   ]
  },
  {
   "cell_type": "code",
   "execution_count": null,
   "id": "48efdc44",
   "metadata": {},
   "outputs": [],
   "source": [
    "MobileNetV2=tf.keras.applications.mobilenet_v2.MobileNetV2\n",
    "model_arch=MobileNetV2()\n",
    "model_arch.summary()\n"
   ]
  },
  {
   "cell_type": "code",
   "execution_count": null,
   "id": "8e124d80",
   "metadata": {},
   "outputs": [],
   "source": [
    "feature_extractor_model = \"https://tfhub.dev/google/tf2-preview/mobilenet_v2/feature_vector/4\"\n",
    "feature_extractor = hub.KerasLayer(feature_extractor_model, input_shape=(224, 224, 3), trainable=False) \n",
    "model = tf.keras.Sequential([feature_extractor])\n",
    "model.summary()\n"
   ]
  },
  {
   "cell_type": "code",
   "execution_count": null,
   "id": "e98cdf42",
   "metadata": {},
   "outputs": [],
   "source": [
    "for image_batch, label_batch in training_image_data:\n",
    "  print(\"Image batch shape: \", image_batch.shape)\n",
    "  print(\"Label batch shape: \", label_batch.shape)\n",
    "  break\n"
   ]
  },
  {
   "cell_type": "code",
   "execution_count": null,
   "id": "8324e4c1",
   "metadata": {},
   "outputs": [],
   "source": [
    "model_truck = tf.keras.Sequential([feature_extractor ])\n",
    "model_truck.add(tf.keras.layers.Dense(6))\n",
    "model_truck.summary()\n"
   ]
  },
  {
   "cell_type": "code",
   "execution_count": null,
   "id": "8eff37de",
   "metadata": {},
   "outputs": [],
   "source": [
    "model_truck.compile(optimizer='Adam', loss=tf.keras.losses.CategoricalCrossentropy(from_logits=True), metrics=['acc'])\n",
    "class CollectBatchStats(tf.keras.callbacks.Callback):\n",
    "  def __init__(self):\n",
    "    self.batch_losses = []\n",
    "    self.batch_acc = []\n",
    "\n",
    "  def on_train_batch_end(self, batch, logs=None):\n",
    "    self.batch_losses.append(logs['loss'])\n",
    "    self.batch_acc.append(logs['acc'])\n",
    "    self.model.reset_metrics()\n",
    "\n",
    "batch_stats_callback = CollectBatchStats()\n",
    "history = model_truck.fit(training_image_data, epochs = 8,\n",
    "                          validation_data=validation_image_data, callbacks=[batch_stats_callback])\n"
   ]
  },
  {
   "cell_type": "code",
   "execution_count": null,
   "id": "18f90456",
   "metadata": {},
   "outputs": [],
   "source": [
    "plt.figure(figsize=(10,7))\n",
    "plt.ylabel(\"Loss\")\n",
    "plt.xlabel(\"Training Steps\")\n",
    "plt.ylim([0,3])\n",
    "plt.plot(batch_stats_callback.batch_losses)\n",
    "plt.title('model loss after each training step')\n",
    "plt.legend(['train'], loc='upper left')\n",
    "print(history.history.keys())\n"
   ]
  },
  {
   "cell_type": "code",
   "execution_count": null,
   "id": "1c67f045",
   "metadata": {},
   "outputs": [],
   "source": [
    "# summarize history for accuracy\n",
    "plt.figure(figsize=(10,7))\n",
    "plt.plot(history.history['acc'])\n",
    "plt.plot(history.history['val_acc'])\n",
    "plt.title('model accuracy')\n",
    "plt.ylabel('accuracy')\n",
    "plt.xlabel('epoch')\n",
    "plt.legend(['train', 'validation'], loc='upper left')\n",
    "plt.show()\n"
   ]
  },
  {
   "cell_type": "code",
   "execution_count": null,
   "id": "ac84bc6e",
   "metadata": {},
   "outputs": [],
   "source": [
    "# summarize history for loss\n",
    "plt.figure(figsize=(10,7))\n",
    "plt.plot(history.history['loss'])\n",
    "plt.plot(history.history['val_loss'])\n",
    "plt.title('model loss')\n",
    "plt.ylabel('loss')\n",
    "plt.xlabel('epoch')\n",
    "plt.legend(['train', 'validation'], loc='upper left')\n",
    "plt.show()\n"
   ]
  },
  {
   "cell_type": "code",
   "execution_count": null,
   "id": "50d1c32f",
   "metadata": {},
   "outputs": [],
   "source": [
    "dict_keys(['loss', 'acc', 'val_loss', 'val_acc'])\n",
    "#model_truck.save('.\\model_truck')\n",
    "INFO:tensorflow:Assets written to: .\\model_truck\\assets\n",
    "INFO:tensorflow:Assets written to: .\\model_truck\\assets\n",
    "            "
   ]
  },
  {
   "cell_type": "code",
   "execution_count": null,
   "id": "f0783ed2",
   "metadata": {},
   "outputs": [],
   "source": [
    "#model_load = keras.models.load_model('.\\model_truck')\n",
    "arr = model_truck.predict(image_batch)\n",
    "predicted_id = np.argmax(arr, axis=-1)\n",
    "predicted_label_batch = class_names[predicted_id]\n",
    "label_id = np.argmax(label_batch, axis=-1)\n",
    "true_label_batch = class_names[label_id]\n"
   ]
  },
  {
   "cell_type": "code",
   "execution_count": null,
   "id": "4ae69c2d",
   "metadata": {},
   "outputs": [],
   "source": [
    "img_counter=0\n",
    "prob_counter=0\n",
    "\n",
    "plt.figure(figsize=(45,200))\n",
    "plt.subplots_adjust(hspace=1)\n"
   ]
  },
  {
   "cell_type": "code",
   "execution_count": null,
   "id": "8bfc7e7d",
   "metadata": {},
   "outputs": [],
   "source": [
    "for n in range(64):\n",
    "  \n",
    "  plt.subplot(32,16,n+1)\n",
    "  if(n%2==0):\n",
    "      plt.imshow(image_batch[img_counter])\n",
    "      color = \"green\" if predicted_id[img_counter] == label_id[img_counter] else \"red\"\n",
    "      plt.title(\"Pred: \"+predicted_label_batch[img_counter].title()+\"\\nTrue: \"+true_label_batch[img_counter], color=color)\n",
    "      img_counter=img_counter+1\n",
    "\n",
    "  if(n%2==1):\n",
    "      plt.title(\"Score\", color=\"Black\")\n",
    "\n",
    "      data=[arr[prob_counter][0],arr[prob_counter][1],arr[prob_counter][2],\n",
    "            arr[prob_counter][3], arr[prob_counter][4], arr[prob_counter][5]\n",
    "            ]\n",
    "    \n",
    "      plt.bar(class_names,data)\n",
    "      plt.xticks(rotation='vertical')\n",
    "      \n",
    "      prob_counter=prob_counter+1     \n"
   ]
  },
  {
   "cell_type": "code",
   "execution_count": null,
   "id": "6e619759",
   "metadata": {},
   "outputs": [],
   "source": [
    "image_generator = tf.keras.preprocessing.image.ImageDataGenerator(rescale=1/255)\n"
   ]
  },
  {
   "cell_type": "code",
   "execution_count": null,
   "id": "65bec0e8",
   "metadata": {},
   "outputs": [],
   "source": [
    "test_data='test'\n",
    "test_image_data  = image_generator.flow_from_directory(test_data,target_size=IMAGE_SHAPE, batch_size=150)\n"
   ]
  },
  {
   "cell_type": "code",
   "execution_count": null,
   "id": "41a4bf39",
   "metadata": {},
   "outputs": [],
   "source": [
    "for image_batch, label_batch in test_image_data:\n",
    "  print(\"Image batch shape: \", image_batch.shape)\n",
    "  print(\"Label batch shape: \", label_batch.shape)\n",
    "  break\n"
   ]
  },
  {
   "cell_type": "code",
   "execution_count": null,
   "id": "4b2e71b2",
   "metadata": {},
   "outputs": [],
   "source": [
    "predicted_batch = model_truck.predict(image_batch)\n",
    "predicted_id = np.argmax(predicted_batch, axis=-1)\n",
    "label_id = np.argmax(label_batch, axis=-1)\n"
   ]
  },
  {
   "cell_type": "code",
   "execution_count": null,
   "id": "57ac5748",
   "metadata": {},
   "outputs": [],
   "source": [
    "import matplotlib.pyplot as plt\n",
    "import numpy as np; np.random.seed(0)\n",
    "import seaborn as sns; sns.set_theme()\n",
    "\n",
    "con_mat_df=tf.math.confusion_matrix(\n",
    "    labels = label_id , predictions = predicted_id\n",
    ")\n",
    "\n",
    "figure = plt.figure(figsize=(5, 5))\n",
    "sns.heatmap(con_mat_df, annot=True,cmap=plt.cm.Blues)\n",
    "plt.tight_layout()\n",
    "plt.ylabel('True label')\n",
    "plt.xlabel('Predicted label')\n",
    "plt.show()\n"
   ]
  },
  {
   "cell_type": "code",
   "execution_count": null,
   "id": "206351bb",
   "metadata": {},
   "outputs": [],
   "source": [
    "from sklearn.metrics import classification_report\n",
    "print(classification_report(label_id, predicted_id, zero_division=0))\n"
   ]
  }
 ],
 "metadata": {
  "kernelspec": {
   "display_name": "Python 3 (ipykernel)",
   "language": "python",
   "name": "python3"
  },
  "language_info": {
   "codemirror_mode": {
    "name": "ipython",
    "version": 3
   },
   "file_extension": ".py",
   "mimetype": "text/x-python",
   "name": "python",
   "nbconvert_exporter": "python",
   "pygments_lexer": "ipython3",
   "version": "3.10.6"
  }
 },
 "nbformat": 4,
 "nbformat_minor": 5
}
