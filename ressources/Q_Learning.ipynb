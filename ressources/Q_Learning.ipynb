{
 "cells": [
  {
   "cell_type": "code",
   "execution_count": 1,
   "metadata": {},
   "outputs": [],
   "source": [
    "import numpy as np\n",
    "import matplotlib.pyplot as plt"
   ]
  },
  {
   "cell_type": "markdown",
   "metadata": {},
   "source": [
    "## Visualizing the rewards matrix"
   ]
  },
  {
   "cell_type": "code",
   "execution_count": 2,
   "metadata": {},
   "outputs": [
    {
     "data": {
      "image/png": "[encoded data removed]",
      "text/plain": [
       "<Figure size 640x480 with 1 Axes>"
      ]
     },
     "metadata": {},
     "output_type": "display_data"
    }
   ],
   "source": [
    "## Step 0:Visualize the rewards matrix\n",
    "\n",
    "#Define the rewards matrix with starting option as -10\n",
    "rewards = np.array([\n",
    "    [-10, 1, 0],\n",
    "    [0, -10, 10]\n",
    "])\n",
    "\n",
    "# Define the corresponding colors for each value\n",
    "colors = [[\"red\", \"white\", \"yellow\"], [\"yellow\", \"red\", \"green\"]]\n",
    "# Create a figure and axis\n",
    "fig, ax = plt.subplots()\n",
    "# Create a table-like visualization of the rewards matrix with colored cells\n",
    "table = ax.table(cellText=rewards, cellLoc='center', loc='center', cellColours=colors)\n",
    "# Set the table properties\n",
    "table.auto_set_font_size(False)\n",
    "table.set_fontsize(14)\n",
    "table.scale(1, 4)\n",
    "# Remove the axis\n",
    "ax.axis('off')\n",
    "\n",
    "# Show the plot of reward matrix\n",
    "plt.show()"
   ]
  },
  {
   "cell_type": "markdown",
   "metadata": {},
   "source": [
    "## Defining the Environment and initializing the Q-table"
   ]
  },
  {
   "cell_type": "code",
   "execution_count": 3,
   "metadata": {},
   "outputs": [
    {
     "name": "stdout",
     "output_type": "stream",
     "text": [
      "[[0. 0. 0. 0.]\n",
      " [0. 0. 0. 0.]\n",
      " [0. 0. 0. 0.]\n",
      " [0. 0. 0. 0.]\n",
      " [0. 0. 0. 0.]\n",
      " [0. 0. 0. 0.]]\n"
     ]
    }
   ],
   "source": [
    "## Step 1: Define the environment\n",
    "grid_rows = 2\n",
    "grid_cols = 3\n",
    "num_actions = 4 # Up, Down, Right, Left\n",
    "states = grid_rows*grid_cols\n",
    "environment = rewards\n",
    "\n",
    "## Step 2: Define and initialize the Q-table\n",
    "q_table = np.zeros((states, num_actions))\n",
    "print(q_table)\n"
   ]
  },
  {
   "cell_type": "code",
   "execution_count": 4,
   "metadata": {
    "scrolled": true
   },
   "outputs": [
    {
     "name": "stdout",
     "output_type": "stream",
     "text": [
      "[[-10   1   0]\n",
      " [  0 -10  10]]\n"
     ]
    }
   ],
   "source": [
    "print(environment)"
   ]
  },
  {
   "cell_type": "markdown",
   "metadata": {},
   "source": [
    "## Implementing the Q_learning algorithm "
   ]
  },
  {
   "cell_type": "code",
   "execution_count": 5,
   "metadata": {},
   "outputs": [
    {
     "name": "stdout",
     "output_type": "stream",
     "text": [
      "[[-1.    0.   10.   -1.  ]\n",
      " [10.   -1.    9.   -1.  ]\n",
      " [ 8.83  9.82  8.8  10.  ]\n",
      " [-1.    0.   -1.02  0.  ]\n",
      " [10.   -0.95  9.77  0.  ]\n",
      " [ 0.    0.    0.    0.  ]]\n"
     ]
    }
   ],
   "source": [
    "## Step 3: Define the Q-learning algorithm\n",
    "\n",
    "# Set hyper-parameters\n",
    "alpha = 0.1  # learning rate\n",
    "gamma = 0.9  # discount factor\n",
    "epsilon = 0.1  # exploration rate\n",
    "total_episodes = 20000\n",
    "\n",
    "# Mapping state and action\n",
    "# Mapping from (row, col) coordinates to state index\n",
    "state_mapping = {(0, 0): 0, (0, 1): 1, (0, 2): 2, (1, 0): 3, (1, 1): 4, (1, 2): 5}\n",
    "\n",
    "for episode in range(total_episodes):\n",
    "    # state = (0,0) # Start state\n",
    "    state = state_mapping[(0, 0)]  # Start state\n",
    "    terminated = False\n",
    "\n",
    "    num_moves = 0 #initialize the mumber of moves\n",
    "    while not terminated:\n",
    "        \n",
    "        # Choose an action based on epsilon-greedy policy\n",
    "        if np.random.random() < epsilon:\n",
    "            action = np.random.randint(num_actions)\n",
    "        else:\n",
    "            action = np.argmax(q_table[state])\n",
    "            \n",
    "        # Convert the state index to (row, col) coordinates\n",
    "        row = state // rewards.shape[1]\n",
    "        col = state % rewards.shape[1]\n",
    "        \n",
    "        # Perform the action and observe the next state and reward\n",
    "        if action == 0:  # Up\n",
    "            next_state = state_mapping[max(row - 1, 0), col]\n",
    "        elif action == 1:  # Down\n",
    "            next_state = state_mapping[min(row + 1, rewards.shape[0] - 1), col]\n",
    "        elif action == 2:  # Right\n",
    "            next_state = state_mapping[row, min(col + 1, rewards.shape[1] - 1)]\n",
    "        elif action == 3:  # Left\n",
    "            next_state = state_mapping[row, max(col - 1, 0)]\n",
    "        \n",
    "        reward = rewards[next_state // rewards.shape[1], next_state % rewards.shape[1]] #converting next_state into (row,col) before stoting it state\n",
    "        \n",
    "        # Update the Q-value of the current state-action pair\n",
    "        q_table[state][action] += alpha * (reward + gamma * np.max(q_table[next_state]) - q_table[state][action])\n",
    "        \n",
    "        state = next_state\n",
    "        \n",
    "        # Check if the episode is over\n",
    "        if reward == 10 or num_moves >= num_actions:\n",
    "            terminated = True\n",
    "            \n",
    "        num_moves += 1\n",
    "\n",
    "# Round the Q-values to two decimal places and display it\n",
    "q_table_rounded = np.round(q_table, 2)\n",
    "print(q_table_rounded)\n"
   ]
  },
  {
   "cell_type": "markdown",
   "metadata": {},
   "source": [
    "## Visualizing the Q_table with matplotlib"
   ]
  },
  {
   "cell_type": "code",
   "execution_count": 6,
   "metadata": {},
   "outputs": [
    {
     "data": {
      "text/plain": [
       "<Axes: title={'center': 'Q-Table'}>"
      ]
     },
     "execution_count": 6,
     "metadata": {},
     "output_type": "execute_result"
    },
    {
     "data": {
      "image/png": "[encoded data removed]",
      "text/plain": [
       "<Figure size 800x600 with 2 Axes>"
      ]
     },
     "metadata": {},
     "output_type": "display_data"
    }
   ],
   "source": [
    "# Step 5: Visualize the Q-table using matplotlib\n",
    "actions = ['Up', 'Down', 'Right', 'Left']\n",
    "\n",
    "fig, ax = plt.subplots(figsize=(8, 6))\n",
    "im = ax.imshow(q_table_rounded, cmap='hot')\n",
    "\n",
    "# Add colorbar\n",
    "cbar = ax.figure.colorbar(im, ax=ax)\n",
    "cbar.ax.set_ylabel('Q-Value', rotation=-90, va=\"bottom\")\n",
    "\n",
    "# Add text annotations\n",
    "for i in range(q_table_rounded.shape[0]):\n",
    "    for j in range(q_table_rounded.shape[1]):\n",
    "        text = ax.text(j, i, f'{q_table_rounded[i, j]:.2f}', ha='center', va='center', color='green')\n",
    "\n",
    "# Set title and labels\n",
    "ax.set_title('Q-Table')\n",
    "ax\n"
   ]
  }
 ],
 "metadata": {
  "kernelspec": {
   "display_name": "Python 3 (ipykernel)",
   "language": "python",
   "name": "python3"
  },
  "language_info": {
   "codemirror_mode": {
    "name": "ipython",
    "version": 3
   },
   "file_extension": ".py",
   "mimetype": "text/x-python",
   "name": "python",
   "nbconvert_exporter": "python",
   "pygments_lexer": "ipython3",
   "version": "3.10.6"
  }
 },
 "nbformat": 4,
 "nbformat_minor": 2
}
